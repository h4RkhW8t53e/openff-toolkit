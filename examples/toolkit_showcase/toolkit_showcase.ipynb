{
 "cells": [
  {
   "cell_type": "markdown",
   "metadata": {},
   "source": [
    "# Workflow 1: Setting up and running a protein-ligand simulation"
   ]
  },
  {
   "cell_type": "markdown",
   "metadata": {
    "slideshow": {
     "slide_type": "-"
    }
   },
   "source": [
    "## Imports, function definitions, and file locations"
   ]
  },
  {
   "cell_type": "code",
   "execution_count": 1,
   "metadata": {
    "slideshow": {
     "slide_type": "-"
    }
   },
   "outputs": [
    {
     "data": {
      "application/vnd.jupyter.widget-view+json": {
       "model_id": "037a81f24712432cac7ffeb8b1f7354d",
       "version_major": 2,
       "version_minor": 0
      },
      "text/plain": []
     },
     "metadata": {},
     "output_type": "display_data"
    }
   ],
   "source": [
    "from simtk.openmm import app, LangevinIntegrator\n",
    "from simtk import unit\n",
    "import parmed as pmd\n",
    "from parmed.openmm import NetCDFReporter\n",
    "import numpy as np\n",
    "import mdtraj as mdt\n",
    "from tempfile import NamedTemporaryFile\n",
    "import nglview"
   ]
  },
  {
   "cell_type": "code",
   "execution_count": 2,
   "metadata": {
    "slideshow": {
     "slide_type": "-"
    }
   },
   "outputs": [],
   "source": [
    "def find_clashing_water(pmd_struct, lig_resname, distance):\n",
    "    \"\"\"\n",
    "    Find waters that are sterically clashing with a ligand.\n",
    "    \n",
    "    Parameters\n",
    "    ----------\n",
    "    pmd_struct : parmed.Structure\n",
    "        The structure to analyze.\n",
    "    lig_resname : str\n",
    "        The up-to-three character residue name.\n",
    "    distance : float\n",
    "        The distance cutoff (in nanometers) for clash detection.\n",
    "        \n",
    "    Returns\n",
    "    -------\n",
    "    water_resnums : Iterable[int]\n",
    "        The residue numbers of waters that are clashing with the ligand.\n",
    "        \n",
    "    \"\"\"\n",
    "    with NamedTemporaryFile(suffix='.pdb') as tf:\n",
    "        app.PDBFile.writeFile(pmd_struct.topology, pmd_struct.positions, open(tf.name, 'w'))\n",
    "        traj = mdt.load(tf.name)\n",
    "    top = traj.topology\n",
    "    lig_atom_idxs = top.select(f'resname {lig_resname}')\n",
    "    lig_res_idx = top.atom(lig_atom_idxs[1]).residue.index\n",
    "    wat_atom_idxs = top.select('resname HOH and name O')\n",
    "    wat_res_idxs = [top.atom(i).residue.index for i in wat_atom_idxs]\n",
    "    potential_contacts = [(lig_res_idx, wat_res_idx) for wat_res_idx in wat_res_idxs]\n",
    "    contacts = mdt.compute_contacts(traj, \n",
    "                                    contacts=potential_contacts, \n",
    "                                    scheme='closest', \n",
    "                                    ignore_nonprotein=False)\n",
    "\n",
    "    \n",
    "    # Note that this is 0-indexed, while the parmed structure is \n",
    "    # 1-indexed, therefore we add 1 before returning\n",
    "    clash_res_idx = [i[1]+1 for i in contacts[1][(contacts[0] < 0.15)[0,:]]]\n",
    "    return clash_res_idx\n"
   ]
  },
  {
   "cell_type": "markdown",
   "metadata": {},
   "source": [
    "## Introducing the main cast\n",
    "\n",
    "https://github.com/MCompChem/fep-benchmark\n"
   ]
  },
  {
   "cell_type": "code",
   "execution_count": 3,
   "metadata": {},
   "outputs": [
    {
     "name": "stdout",
     "output_type": "stream",
     "text": [
      "Cloning into 'fep-benchmark'...\n",
      "remote: Enumerating objects: 32, done.\u001b[K\n",
      "remote: Counting objects: 100% (32/32), done.\u001b[K\n",
      "remote: Compressing objects: 100% (31/31), done.\u001b[K\n",
      "remote: Total 228 (delta 14), reused 1 (delta 0), pack-reused 196\u001b[K\n",
      "Receiving objects: 100% (228/228), 1.08 MiB | 5.92 MiB/s, done.\n",
      "Resolving deltas: 100% (113/113), done.\n"
     ]
    }
   ],
   "source": [
    "! rm -rf fep-benchmark\n",
    "! git clone https://github.com/MCompChem/fep-benchmark.git"
   ]
  },
  {
   "cell_type": "markdown",
   "metadata": {},
   "source": [
    "### Split off the first ligand in the SDF"
   ]
  },
  {
   "cell_type": "code",
   "execution_count": 4,
   "metadata": {},
   "outputs": [
    {
     "name": "stdout",
     "output_type": "stream",
     "text": [
      "CHEMBL1078774\r\n",
      "                    3D\r\n",
      " Structure written by MMmdl.\r\n",
      " 52 55  0  0  1  0            999 V2000\r\n",
      "   12.8146    0.8080    0.0689 C   0  0  0  0  0  0\r\n",
      "   11.9194   -0.1474   -0.7542 C   0  0  0  0  0  0\r\n",
      "   10.4685    0.3660   -0.7781 C   0  0  0  0  0  0\r\n",
      "   12.4753   -0.2208   -2.1781 C   0  0  0  0  0  0\r\n",
      "   11.8886   -1.5790   -0.1851 C   0  0  0  0  0  0\r\n",
      "   10.8516   -2.4541   -0.5469 C   0  0  0  0  0  0\r\n",
      "   10.7947   -3.7435   -0.0550 C   0  0  0  0  0  0\r\n",
      "   11.8117   -4.2036    0.7644 C   0  0  0  0  0  0\r\n",
      "   12.8807   -3.3692    1.1329 C   0  0  0  0  0  0\r\n",
      "   12.8820   -2.0552    0.6763 C   0  0  0  0  0  0\r\n",
      "   14.0286   -3.8741    1.9864 C   0  0  1  0  0  0\r\n",
      "   13.8076   -3.4485    3.3326 O   0  0  0  0  0  0\r\n",
      "   14.8758   -3.7894    4.2165 C   0  0  0  0  0  0\r\n",
      "   15.0715   -5.3181    4.2567 C   0  0  0  0  0  0\r\n",
      "   15.2314   -5.9009    2.8436 C   0  0  0  0  0  0\r\n",
      "   14.1181   -5.4079    1.8901 C   0  0  1  0  0  0\r\n",
      "   12.7185   -6.0488    2.1265 C   0  0  2  0  0  0\r\n",
      "   12.7612   -7.5479    2.0351 C   0  0  0  0  0  0\r\n",
      "   13.2453   -8.1893    0.8854 C   0  0  0  0  0  0\r\n",
      "   13.3212   -9.5776    0.8297 C   0  0  0  0  0  0\r\n",
      "   12.9274  -10.3120    1.9477 C   0  0  0  0  0  0\r\n",
      "   12.9755  -11.6650    2.0910 O   0  0  0  0  0  0\r\n",
      "   12.4304   -9.6686    3.0444 C   0  0  0  0  0  0\r\n",
      "   12.0577  -10.4439    4.0695 F   0  0  0  0  0  0\r\n",
      "   12.3226   -8.3021    3.1210 C   0  0  0  0  0  0\r\n",
      "   11.7434   -5.5361    1.1782 N   0  0  0  0  0  0\r\n",
      "   12.5325    0.8833    1.1150 H   0  0  0  0  0  0\r\n",
      "   12.8684    1.8169   -0.3389 H   0  0  0  0  0  0\r\n",
      "   13.8143    0.4106    0.0939 H   0  0  0  0  0  0\r\n",
      "   10.1312    0.3291    0.2282 H   0  0  0  0  0  0\r\n",
      "    9.7854   -0.1994   -1.3984 H   0  0  0  0  0  0\r\n",
      "   10.2936    1.3645   -1.1331 H   0  0  0  0  0  0\r\n",
      "   13.4726   -0.6589   -2.2247 H   0  0  0  0  0  0\r\n",
      "   12.5251    0.7329   -2.6948 H   0  0  0  0  0  0\r\n",
      "   11.7885   -0.8617   -2.7053 H   0  0  0  0  0  0\r\n",
      "   10.0577   -2.1640   -1.2118 H   0  0  0  0  0  0\r\n",
      "    9.9636   -4.3765   -0.3287 H   0  0  0  0  0  0\r\n",
      "   13.7110   -1.4397    0.9847 H   0  0  0  0  0  0\r\n",
      "   14.9568   -3.4397    1.6082 H   0  0  0  0  0  0\r\n",
      "   15.7982   -3.3159    3.8733 H   0  0  0  0  0  0\r\n",
      "   14.6645   -3.3991    5.2118 H   0  0  0  0  0  0\r\n",
      "   15.9448   -5.5693    4.8582 H   0  0  0  0  0  0\r\n",
      "   14.2132   -5.7780    4.7478 H   0  0  0  0  0  0\r\n",
      "   16.2000   -5.6073    2.4333 H   0  0  0  0  0  0\r\n",
      "   15.2545   -6.9886    2.8964 H   0  0  0  0  0  0\r\n",
      "   14.4360   -5.6292    0.8705 H   0  0  0  0  0  0\r\n",
      "   12.3626   -5.7833    3.1259 H   0  0  0  0  0  0\r\n",
      "   13.5633   -7.5865    0.0421 H   0  0  0  0  0  0\r\n",
      "   13.6945  -10.0446   -0.0712 H   0  0  0  0  0  0\r\n",
      "   13.1617  -12.2032    1.3104 H   0  0  0  0  0  0\r\n",
      "   11.9305   -7.8479    4.0169 H   0  0  0  0  0  0\r\n",
      "   10.8870   -6.0695    1.1050 H   0  0  0  0  0  0\r\n",
      "  1  2  1  0  0  0\r\n",
      "  1 27  1  0  0  0\r\n",
      "  1 28  1  0  0  0\r\n",
      "  1 29  1  0  0  0\r\n",
      "  2  3  1  0  0  0\r\n",
      "  2  4  1  0  0  0\r\n",
      "  2  5  1  0  0  0\r\n",
      "  3 30  1  0  0  0\r\n",
      "  3 31  1  0  0  0\r\n",
      "  3 32  1  0  0  0\r\n",
      "  4 33  1  0  0  0\r\n",
      "  4 34  1  0  0  0\r\n",
      "  4 35  1  0  0  0\r\n",
      "  5  6  2  0  0  0\r\n",
      "  5 10  1  0  0  0\r\n",
      "  6  7  1  0  0  0\r\n",
      "  6 36  1  0  0  0\r\n",
      "  7  8  2  0  0  0\r\n",
      "  7 37  1  0  0  0\r\n",
      "  8  9  1  0  0  0\r\n",
      "  8 26  1  0  0  0\r\n",
      "  9 10  2  0  0  0\r\n",
      "  9 11  1  0  0  0\r\n",
      " 10 38  1  0  0  0\r\n",
      " 11 12  1  0  0  0\r\n",
      " 11 16  1  0  0  0\r\n",
      " 11 39  1  0  0  0\r\n",
      " 12 13  1  0  0  0\r\n",
      " 13 14  1  0  0  0\r\n",
      " 13 40  1  0  0  0\r\n",
      " 13 41  1  0  0  0\r\n",
      " 14 15  1  0  0  0\r\n",
      " 14 42  1  0  0  0\r\n",
      " 14 43  1  0  0  0\r\n",
      " 15 16  1  0  0  0\r\n",
      " 15 44  1  0  0  0\r\n",
      " 15 45  1  0  0  0\r\n",
      " 16 17  1  0  0  0\r\n",
      " 16 46  1  0  0  0\r\n",
      " 17 18  1  0  0  0\r\n",
      " 17 26  1  0  0  0\r\n",
      " 17 47  1  0  0  0\r\n",
      " 18 19  2  0  0  0\r\n",
      " 18 25  1  0  0  0\r\n",
      " 19 20  1  0  0  0\r\n",
      " 19 48  1  0  0  0\r\n",
      " 20 21  2  0  0  0\r\n",
      " 20 49  1  0  0  0\r\n",
      " 21 22  1  0  0  0\r\n",
      " 21 23  1  0  0  0\r\n",
      " 22 50  1  0  0  0\r\n",
      " 23 24  1  0  0  0\r\n",
      " 23 25  2  0  0  0\r\n",
      " 25 51  1  0  0  0\r\n",
      " 26 52  1  0  0  0\r\n",
      "M  END\r\n",
      "> <ID>\r\n",
      "CHEMBL1078774\r\n",
      "\r\n",
      "> <IC50[nM]>\r\n",
      "17\r\n",
      "\r\n",
      "$$$$\r\n"
     ]
    }
   ],
   "source": [
    "! head -n119 fep-benchmark/eg5/ligands.sdf > fep-benchmark/eg5/chembl_1078774.sdf\n",
    "! cat fep-benchmark/eg5/chembl_1078774.sdf"
   ]
  },
  {
   "cell_type": "markdown",
   "metadata": {},
   "source": [
    "Magic:\n",
    "* The ligand coordinates are already superimposable on the protein\n",
    "* Protein+Ligand already prepared (by the Schrodinger suite, I think)"
   ]
  },
  {
   "cell_type": "code",
   "execution_count": 5,
   "metadata": {
    "slideshow": {
     "slide_type": "-"
    }
   },
   "outputs": [],
   "source": [
    "receptor_path = 'fep-benchmark/eg5/3l9h_prepared.pdb'\n",
    "ligand_path = 'fep-benchmark/eg5/chembl_1078774.sdf'"
   ]
  },
  {
   "cell_type": "code",
   "execution_count": 6,
   "metadata": {},
   "outputs": [
    {
     "data": {
      "application/vnd.jupyter.widget-view+json": {
       "model_id": "f5c5ce6209e049d6b0fe807b29417554",
       "version_major": 2,
       "version_minor": 0
      },
      "text/plain": [
       "NGLWidget()"
      ]
     },
     "metadata": {},
     "output_type": "display_data"
    }
   ],
   "source": [
    "view = nglview.show_file(ligand_path)\n",
    "view"
   ]
  },
  {
   "cell_type": "code",
   "execution_count": 7,
   "metadata": {
    "scrolled": false
   },
   "outputs": [
    {
     "data": {
      "application/vnd.jupyter.widget-view+json": {
       "model_id": "839c5a5922d64e14b8d01af1ab4e55df",
       "version_major": 2,
       "version_minor": 0
      },
      "text/plain": [
       "NGLWidget()"
      ]
     },
     "metadata": {},
     "output_type": "display_data"
    }
   ],
   "source": [
    "view = nglview.show_file(receptor_path)\n",
    "view"
   ]
  },
  {
   "cell_type": "markdown",
   "metadata": {},
   "source": [
    "# The plan:\n",
    "\n",
    "* Parameterize the ligand (OFF Toolkit)\n",
    "* Solvate and parameterize the protein (OpenMM)\n",
    "* Combine the parameterized ligand and the parameterized protein (ParmEd)\n",
    "* Remove waters that clash with the ligand (ParmEd/MDAnalysis)\n",
    "* Simulate the complex (OpenMM)\n",
    "* Visualize the simulation (nglview)\n",
    "\n",
    "_Note that there's a new package `OpenMMForceFields` to replace much of this!_\n",
    "* Home: https://github.com/openmm/openmmforcefields\n",
    "* `conda install -c conda-forge -c omnia openmmforcefields`\n",
    "* [Example notebook available](https://github.com/openforcefield/openforcefield/blob/master/examples/swap_amber_parameters/swap_existing_ligand_parameters_with_openmmforcefields.ipynb)\n",
    "\n",
    "## Parameterize the ligand (OFF Toolkit)"
   ]
  },
  {
   "cell_type": "code",
   "execution_count": 8,
   "metadata": {},
   "outputs": [
    {
     "name": "stderr",
     "output_type": "stream",
     "text": [
      "Warning: Unable to load toolkit 'OpenEye Toolkit'. The Open Force Field Toolkit does not require the OpenEye Toolkits, and can use RDKit/AmberTools instead. However, if you have a valid license for the OpenEye Toolkits, consider installing them for faster performance and additional file format support: https://docs.eyesopen.com/toolkits/python/quickstart-python/linuxosx.html OpenEye offers free Toolkit licenses for academics: https://www.eyesopen.com/academic-licensing\n"
     ]
    }
   ],
   "source": [
    "from openforcefield.typing.engines.smirnoff import ForceField\n",
    "from openforcefield.topology import Molecule, Topology"
   ]
  },
  {
   "cell_type": "markdown",
   "metadata": {},
   "source": [
    "_(The OpenEye loading warning is expected -- The toolkit is informing us that OETK is unavailable, so it will use RDKit and AmberTools instead)_"
   ]
  },
  {
   "cell_type": "code",
   "execution_count": 9,
   "metadata": {},
   "outputs": [],
   "source": [
    "ligand = Molecule.from_file(ligand_path)\n",
    "\n",
    "ligand_positions = ligand.conformers[0]\n",
    "off_forcefield = ForceField('openff_unconstrained-1.2.0.offxml')\n",
    "\n",
    "ligand_topology = ligand.to_topology()\n",
    "ligand_system = off_forcefield.create_openmm_system(ligand_topology)"
   ]
  },
  {
   "cell_type": "markdown",
   "metadata": {},
   "source": [
    "_(takes ~100 seconds)_\n",
    "### This is the only block in the first workflow that uses the Open Force Field Toolkit\n",
    "* Design goal: **Just work**\n",
    "    * Validate early and fail as quickly as possible if inputs have problems\n",
    "    * Calculate charges with no user intervention -- Using RDKit+AmberTools right now, OpenEye is faster"
   ]
  },
  {
   "cell_type": "markdown",
   "metadata": {},
   "source": [
    "## Solvate and parameterize the protein (OpenMM)"
   ]
  },
  {
   "cell_type": "code",
   "execution_count": 10,
   "metadata": {},
   "outputs": [],
   "source": [
    "omm_forcefield = app.ForceField('amber99sb.xml', 'tip3p.xml')\n",
    "pdb = app.PDBFile(receptor_path)\n",
    "modeller = app.Modeller(pdb.topology, pdb.positions)\n",
    "modeller.addSolvent(omm_forcefield, \n",
    "                    model='tip3p', \n",
    "                    padding=4.*unit.angstrom, \n",
    "                    ionicStrength=0.15*unit.molar)\n",
    "protein_system = omm_forcefield.createSystem(modeller.topology, \n",
    "                                             nonbondedMethod=app.PME, \n",
    "                                             rigidWater=False)"
   ]
  },
  {
   "cell_type": "markdown",
   "metadata": {},
   "source": [
    "* Magic: \n",
    "    * The protein was already prepared\n",
    "    * AMBER-compatible residue names\n",
    "    * `rigidWater=False` is necessary at this step due to design differences between OFF/OMM and ParmEd\n",
    "\n",
    "* Look out! Confusion between OpenMM and OpenFF `Topology` and `ForceField`"
   ]
  },
  {
   "cell_type": "markdown",
   "metadata": {},
   "source": [
    "## Combine the parameterized ligand and the parameterized protein (ParmEd)"
   ]
  },
  {
   "cell_type": "code",
   "execution_count": 11,
   "metadata": {},
   "outputs": [],
   "source": [
    "pmd_receptor_struct = pmd.openmm.load_topology(modeller.topology, \n",
    "                                               protein_system, \n",
    "                                               modeller.positions)\n",
    "pmd_ligand_struct = pmd.openmm.load_topology(ligand_topology.to_openmm(), \n",
    "                                             ligand_system, \n",
    "                                             ligand_positions)\n",
    "\n",
    "pmd_complex_struct = pmd_receptor_struct + pmd_ligand_struct\n",
    "\n",
    "# Assign periodic box vectors from the solvated receptor structure\n",
    "pmd_complex_struct.box_vectors = modeller.topology.getPeriodicBoxVectors()"
   ]
  },
  {
   "cell_type": "markdown",
   "metadata": {},
   "source": [
    "## Visualize combined system"
   ]
  },
  {
   "cell_type": "code",
   "execution_count": 12,
   "metadata": {
    "scrolled": true
   },
   "outputs": [
    {
     "data": {
      "application/vnd.jupyter.widget-view+json": {
       "model_id": "316e2e781a9b4e3b89fbfe7783aedfc9",
       "version_major": 2,
       "version_minor": 0
      },
      "text/plain": [
       "NGLWidget()"
      ]
     },
     "metadata": {},
     "output_type": "display_data"
    }
   ],
   "source": [
    "view = nglview.show_parmed(pmd_complex_struct)\n",
    "view.add_licorice(selection='(not protein)')\n",
    "view.add_surface(selection=':.NA or :.CL')\n",
    "\n",
    "view"
   ]
  },
  {
   "cell_type": "markdown",
   "metadata": {},
   "source": [
    "* Note waters clashing with ligand, since protein was solvated alone"
   ]
  },
  {
   "cell_type": "markdown",
   "metadata": {},
   "source": [
    "## Remove waters that clash with the ligand (ParmEd/MDAnalysis)\n",
    "\n",
    "* Magic:\n",
    "    * Uses function at top of file to find clashes"
   ]
  },
  {
   "cell_type": "code",
   "execution_count": 13,
   "metadata": {},
   "outputs": [
    {
     "name": "stdout",
     "output_type": "stream",
     "text": [
      "Removing ligand-clashing water residues 7475,7529\n"
     ]
    },
    {
     "data": {
      "application/vnd.jupyter.widget-view+json": {
       "model_id": "80f2d63e01ca4f18a3c1cf5428d46ad7",
       "version_major": 2,
       "version_minor": 0
      },
      "text/plain": [
       "NGLWidget()"
      ]
     },
     "metadata": {},
     "output_type": "display_data"
    }
   ],
   "source": [
    "clashes = find_clashing_water(pmd_complex_struct, 'CHE', 0.15)\n",
    "\n",
    "if len(clashes) != 0:\n",
    "    clash_residues_str = ','.join([str(i) for i in clashes])\n",
    "    print(f'Removing ligand-clashing water residues {clash_residues_str}')\n",
    "    pmd_complex_struct.strip(f':{clash_residues_str}')\n",
    "else:\n",
    "    print(\"No ligand-water clashes to resolve\")\n",
    "\n",
    "view = nglview.show_parmed(pmd_complex_struct)\n",
    "\n",
    "view.add_licorice(selection='(not protein)')\n",
    "view.add_surface(selection=':.NA or :.CL')\n",
    "view"
   ]
  },
  {
   "cell_type": "markdown",
   "metadata": {},
   "source": [
    "## Convert the combined system from ParmEd back to OpenMM"
   ]
  },
  {
   "cell_type": "code",
   "execution_count": 14,
   "metadata": {},
   "outputs": [],
   "source": [
    "system = pmd_complex_struct.createSystem(nonbondedMethod=app.PME,\n",
    "                                         nonbondedCutoff=9*unit.angstrom,\n",
    "                                         constraints=app.HBonds,\n",
    "                                         rigidWater=True)\n",
    "integrator = LangevinIntegrator(300*unit.kelvin, \n",
    "                                1/unit.picosecond, \n",
    "                                0.002*unit.picoseconds)\n",
    "\n",
    "simulation = app.Simulation(pmd_complex_struct.topology, system, integrator)\n",
    "\n",
    "# The box is about 75 angstroms per side, so add (30, 30, 30) to center the protein\n",
    "simulation.context.setPositions(pmd_complex_struct.positions + np.array([30, 30, 30])*unit.angstrom)\n",
    "\n",
    "nc_reporter = NetCDFReporter('trajectory.nc', 10)\n",
    "simulation.reporters.append(nc_reporter)\n"
   ]
  },
  {
   "cell_type": "markdown",
   "metadata": {},
   "source": [
    "## Simulate the complex (OpenMM)\n",
    "### Minimize the combined system\n",
    "_(Takes 110 seconds)_"
   ]
  },
  {
   "cell_type": "code",
   "execution_count": 15,
   "metadata": {},
   "outputs": [],
   "source": [
    "simulation.minimizeEnergy()\n",
    "minimized_coords = simulation.context.getState(getPositions=True).getPositions()"
   ]
  },
  {
   "cell_type": "markdown",
   "metadata": {},
   "source": [
    "### Run a short simulation\n",
    "_(Takes 85 seconds, largely due to trajectory writing frequency)_"
   ]
  },
  {
   "cell_type": "code",
   "execution_count": 16,
   "metadata": {},
   "outputs": [
    {
     "name": "stderr",
     "output_type": "stream",
     "text": [
      "/Users/jeffreywagner/miniconda3/envs/openforcefield/lib/python3.7/site-packages/parmed/amber/netcdffiles.py:409: UserWarning: Could not find netCDF4 module. Falling back on scipy implementation, which can significantly slow down simulations if used as a reporter\n",
      "  warnings.warn('Could not find netCDF4 module. Falling back on '\n"
     ]
    }
   ],
   "source": [
    "simulation.context.setVelocitiesToTemperature(300*unit.kelvin)\n",
    "simulation.step(1000)"
   ]
  },
  {
   "cell_type": "markdown",
   "metadata": {},
   "source": [
    "## While we wait, a few asides...\n",
    "\n",
    "### Force Fields\n",
    "* Reproducibility - User *must* see the name of what they're using\n",
    "* Conda data packages - \"Plugin\" support for additional force fields (anybody can add!)\n",
    "* Evolving together - Toolkit will support all functional forms in [OpenForceFields repo](https://github.com/openforcefield/openforcefields/)\n",
    "\n",
    "<img src=\"img/openforcefields.png\" alt=\"drawing\" width=\"800\"/>\n",
    "\n",
    "<hr/>\n",
    "    \n",
    "### Charge generation\n",
    "* Released FFs only use AM1-BCC, though different semiempirical methods and charge corrections are now available\n",
    "* \"Graph based\" charges are coming in the near future -- Consistency and speed!\n",
    "* Library charge support is available\n",
    "    \n",
    "    \n",
    "<img src=\"img/xkcd_charge.png\" alt=\"drawing\" width=\"400\"/>\n",
    "\n",
    "<hr/>\n",
    "\n",
    "### Current cheminformatics toolkit differences\n",
    "* File formats\n",
    "* Slight differences in partial charge\n",
    "* Speed\n",
    "* SMILES canonicalization\n",
    "* Behavior stability\n",
    "* Stereochemistry definition (Edge cases)"
   ]
  },
  {
   "cell_type": "markdown",
   "metadata": {},
   "source": [
    "## Visualize the simulation (nglview)"
   ]
  },
  {
   "cell_type": "code",
   "execution_count": 17,
   "metadata": {},
   "outputs": [
    {
     "name": "stdout",
     "output_type": "stream",
     "text": [
      "<mdtraj.Trajectory with 100 frames, 40097 atoms, 11915 residues, and unitcells>\n"
     ]
    },
    {
     "data": {
      "application/vnd.jupyter.widget-view+json": {
       "model_id": "77ff2cd0ada84ff4ab41a92391a70351",
       "version_major": 2,
       "version_minor": 0
      },
      "text/plain": [
       "NGLWidget(max_frame=99)"
      ]
     },
     "metadata": {},
     "output_type": "display_data"
    }
   ],
   "source": [
    "app.PDBFile.writeFile(pmd_complex_struct.topology, pmd_complex_struct.positions, open('system.pdb', 'w'))\n",
    "mdt_traj = mdt.load('trajectory.nc', top='system.pdb')\n",
    "print(mdt_traj)\n",
    "import nglview\n",
    "view = nglview.show_mdtraj(mdt_traj)\n",
    "view"
   ]
  },
  {
   "cell_type": "markdown",
   "metadata": {},
   "source": [
    "# What about GROMACS?\n",
    "_Thanks, Dennis Della Corte!_"
   ]
  },
  {
   "cell_type": "code",
   "execution_count": 18,
   "metadata": {},
   "outputs": [],
   "source": [
    "pmd_complex_struct.coordinates = minimized_coords\n",
    "\n",
    "# Export GROMACS files.\n",
    "pmd_complex_struct.save('system.top', overwrite=True)\n",
    "pmd_complex_struct.save('system.gro', overwrite=True)"
   ]
  },
  {
   "cell_type": "code",
   "execution_count": 19,
   "metadata": {},
   "outputs": [
    {
     "name": "stdout",
     "output_type": "stream",
     "text": [
      "                      :-) GROMACS - gmx grompp, 2019.1 (-:\n",
      "\n",
      "                            GROMACS is written by:\n",
      "     Emile Apol      Rossen Apostolov      Paul Bauer     Herman J.C. Berendsen\n",
      "    Par Bjelkmar      Christian Blau   Viacheslav Bolnykh     Kevin Boyd    \n",
      " Aldert van Buuren   Rudi van Drunen     Anton Feenstra       Alan Gray     \n",
      "  Gerrit Groenhof     Anca Hamuraru    Vincent Hindriksen  M. Eric Irrgang  \n",
      "  Aleksei Iupinov   Christoph Junghans     Joe Jordan     Dimitrios Karkoulis\n",
      "    Peter Kasson        Jiri Kraus      Carsten Kutzner      Per Larsson    \n",
      "  Justin A. Lemkul    Viveca Lindahl    Magnus Lundborg     Erik Marklund   \n",
      "    Pascal Merz     Pieter Meulenhoff    Teemu Murtola       Szilard Pall   \n",
      "    Sander Pronk      Roland Schulz      Michael Shirts    Alexey Shvetsov  \n",
      "   Alfons Sijbers     Peter Tieleman      Jon Vincent      Teemu Virolainen \n",
      " Christian Wennberg    Maarten Wolf   \n",
      "                           and the project leaders:\n",
      "        Mark Abraham, Berk Hess, Erik Lindahl, and David van der Spoel\n",
      "\n",
      "Copyright (c) 1991-2000, University of Groningen, The Netherlands.\n",
      "Copyright (c) 2001-2018, The GROMACS development team at\n",
      "Uppsala University, Stockholm University and\n",
      "the Royal Institute of Technology, Sweden.\n",
      "check out http://www.gromacs.org for more information.\n",
      "\n",
      "GROMACS is free software; you can redistribute it and/or modify it\n",
      "under the terms of the GNU Lesser General Public License\n",
      "as published by the Free Software Foundation; either version 2.1\n",
      "of the License, or (at your option) any later version.\n",
      "\n",
      "GROMACS:      gmx grompp, version 2019.1\n",
      "Executable:   /Users/jeffreywagner/miniconda3/envs/openforcefield/bin/gmx\n",
      "Data prefix:  /Users/jeffreywagner/miniconda3/envs/openforcefield\n",
      "Working dir:  /Users/jeffreywagner/projects/OpenForceField/openforcefield/examples/toolkit_showcase\n",
      "Command line:\n",
      "  gmx grompp -f minim.mdp -c system.gro -p system.top -o em.tpr -maxwarn 1\n",
      "\n",
      "\n",
      "NOTE 1 [file minim.mdp]:\n",
      "  With Verlet lists the optimal nstlist is >= 10, with GPUs >= 20. Note\n",
      "  that with the Verlet scheme, nstlist has no effect on the accuracy of\n",
      "  your simulation.\n",
      "\n",
      "Setting the LD random seed to -2042282913\n",
      "Generated 190 of the 190 non-bonded parameter combinations\n",
      "Excluding 3 bonded neighbours molecule type 'system1'\n",
      "Excluding 3 bonded neighbours molecule type 'HOH'\n",
      "Excluding 3 bonded neighbours molecule type 'NA'\n",
      "Excluding 3 bonded neighbours molecule type 'CL'\n",
      "Excluding 3 bonded neighbours molecule type 'CHEMBL1078774'\n",
      "\n",
      "NOTE 2 [file system.top, line 52558]:\n",
      "  System has non-zero total charge: 0.004995\n",
      "  Total charge should normally be an integer. See\n",
      "  http://www.gromacs.org/Documentation/Floating_Point_Arithmetic\n",
      "  for discussion on how close it should be to an integer.\n",
      "  \n",
      "\n",
      "\n",
      "\n",
      "WARNING 1 [file system.top, line 52558]:\n",
      "  You are using Ewald electrostatics in a system with net charge. This can\n",
      "  lead to severe artifacts, such as ions moving into regions with low\n",
      "  dielectric, due to the uniform background charge. We suggest to\n",
      "  neutralize your system with counter ions, possibly in combination with a\n",
      "  physiological salt concentration.\n",
      "\n",
      "\n",
      "++++ PLEASE READ AND CITE THE FOLLOWING REFERENCE ++++\n",
      "J. S. Hub, B. L. de Groot, H. Grubmueller, G. Groenhof\n",
      "Quantifying Artifacts in Ewald Simulations of Inhomogeneous Systems with a Net\n",
      "Charge\n",
      "J. Chem. Theory Comput. 10 (2014) pp. 381-393\n",
      "-------- -------- --- Thank You --- -------- --------\n",
      "\n",
      "Removing all charge groups because cutoff-scheme=Verlet\n",
      "Analysing residue names:\n",
      "There are:   349    Protein residues\n",
      "There are: 11503      Water residues\n",
      "There are:    62        Ion residues\n",
      "There are:     1      Other residues\n",
      "Analysing Protein...\n",
      "Analysing residues not classified as Protein/DNA/RNA/Water and splitting into groups...\n",
      "Analysing residues not classified as Protein/DNA/RNA/Water and splitting into groups...\n",
      "Number of degrees of freedom in T-Coupling group rest is 85779.00\n",
      "Calculating fourier grid dimensions for X Y Z\n",
      "Using a fourier grid of 64x64x64, spacing 0.118 0.118 0.118\n",
      "Estimate for the relative computational load of the PME mesh part: 0.19\n",
      "This run will generate roughly 3 Mb of data\n",
      "\n",
      "There were 2 notes\n",
      "\n",
      "There was 1 warning\n",
      "\n",
      "Back Off! I just backed up em.tpr to ./#em.tpr.1#\n",
      "\n",
      "GROMACS reminds you: \"Creativity in science, as in art, cannot be organized. It arises spontaneously from individual talent. Well-run laboratories can foster it, but hierarchical organizations, inflexible bureaucratic rules, and mountains of futile paperwork can kill it.\" (Max Perutz)\n",
      "\n",
      "                      :-) GROMACS - gmx mdrun, 2019.1 (-:\n",
      "\n",
      "                            GROMACS is written by:\n",
      "     Emile Apol      Rossen Apostolov      Paul Bauer     Herman J.C. Berendsen\n",
      "    Par Bjelkmar      Christian Blau   Viacheslav Bolnykh     Kevin Boyd    \n",
      " Aldert van Buuren   Rudi van Drunen     Anton Feenstra       Alan Gray     \n",
      "  Gerrit Groenhof     Anca Hamuraru    Vincent Hindriksen  M. Eric Irrgang  \n",
      "  Aleksei Iupinov   Christoph Junghans     Joe Jordan     Dimitrios Karkoulis\n",
      "    Peter Kasson        Jiri Kraus      Carsten Kutzner      Per Larsson    \n",
      "  Justin A. Lemkul    Viveca Lindahl    Magnus Lundborg     Erik Marklund   \n",
      "    Pascal Merz     Pieter Meulenhoff    Teemu Murtola       Szilard Pall   \n",
      "    Sander Pronk      Roland Schulz      Michael Shirts    Alexey Shvetsov  \n",
      "   Alfons Sijbers     Peter Tieleman      Jon Vincent      Teemu Virolainen \n",
      " Christian Wennberg    Maarten Wolf   \n",
      "                           and the project leaders:\n",
      "        Mark Abraham, Berk Hess, Erik Lindahl, and David van der Spoel\n",
      "\n",
      "Copyright (c) 1991-2000, University of Groningen, The Netherlands.\n",
      "Copyright (c) 2001-2018, The GROMACS development team at\n",
      "Uppsala University, Stockholm University and\n",
      "the Royal Institute of Technology, Sweden.\n",
      "check out http://www.gromacs.org for more information.\n",
      "\n",
      "GROMACS is free software; you can redistribute it and/or modify it\n",
      "under the terms of the GNU Lesser General Public License\n",
      "as published by the Free Software Foundation; either version 2.1\n",
      "of the License, or (at your option) any later version.\n",
      "\n",
      "GROMACS:      gmx mdrun, version 2019.1\n",
      "Executable:   /Users/jeffreywagner/miniconda3/envs/openforcefield/bin/gmx\n",
      "Data prefix:  /Users/jeffreywagner/miniconda3/envs/openforcefield\n",
      "Working dir:  /Users/jeffreywagner/projects/OpenForceField/openforcefield/examples/toolkit_showcase\n",
      "Command line:\n",
      "  gmx mdrun -deffnm em\n",
      "\n",
      "\n",
      "Back Off! I just backed up em.log to ./#em.log.1#\n",
      "Compiled SIMD: SSE2, but for this host/run AVX2_256 might be better (see log).\n",
      "The current CPU can measure timings more accurately than the code in\n",
      "gmx mdrun was configured to use. This might affect your simulation\n",
      "speed as accurate timings are needed for load-balancing.\n",
      "Please consider rebuilding gmx mdrun with the GMX_USE_RDTSCP=ON CMake option.\n",
      "Reading file em.tpr, VERSION 2019.1 (single precision)\n",
      "\n",
      "Using 4 MPI threads\n",
      "\n",
      "Back Off! I just backed up em.trr to ./#em.trr.1#\n",
      "\n",
      "Back Off! I just backed up em.edr to ./#em.edr.1#\n",
      "\n",
      "Steepest Descents:\n",
      "   Tolerance (Fmax)   =  1.00000e+03\n",
      "   Number of steps    =        50000\n",
      "\n",
      "writing lowest energy coordinates.\n",
      "\n",
      "Back Off! I just backed up em.gro to ./#em.gro.1#\n",
      "\n",
      "Steepest Descents converged to Fmax < 1000 in 63 steps\n",
      "Potential Energy  = -6.3585581e+05\n",
      "Maximum force     =  9.3137146e+02 on atom 276\n",
      "Norm of force     =  2.7064375e+01\n",
      "\n",
      "GROMACS reminds you: \"Academe, n.: An ancient school where morality and philosophy were taught. Academy, n.: A modern school where football is taught.\" (Ambrose Bierce)\n",
      "\n",
      "                      :-) GROMACS - gmx grompp, 2019.1 (-:\n",
      "\n",
      "                            GROMACS is written by:\n",
      "     Emile Apol      Rossen Apostolov      Paul Bauer     Herman J.C. Berendsen\n",
      "    Par Bjelkmar      Christian Blau   Viacheslav Bolnykh     Kevin Boyd    \n",
      " Aldert van Buuren   Rudi van Drunen     Anton Feenstra       Alan Gray     \n",
      "  Gerrit Groenhof     Anca Hamuraru    Vincent Hindriksen  M. Eric Irrgang  \n",
      "  Aleksei Iupinov   Christoph Junghans     Joe Jordan     Dimitrios Karkoulis\n",
      "    Peter Kasson        Jiri Kraus      Carsten Kutzner      Per Larsson    \n",
      "  Justin A. Lemkul    Viveca Lindahl    Magnus Lundborg     Erik Marklund   \n",
      "    Pascal Merz     Pieter Meulenhoff    Teemu Murtola       Szilard Pall   \n",
      "    Sander Pronk      Roland Schulz      Michael Shirts    Alexey Shvetsov  \n",
      "   Alfons Sijbers     Peter Tieleman      Jon Vincent      Teemu Virolainen \n",
      " Christian Wennberg    Maarten Wolf   \n",
      "                           and the project leaders:\n",
      "        Mark Abraham, Berk Hess, Erik Lindahl, and David van der Spoel\n",
      "\n",
      "Copyright (c) 1991-2000, University of Groningen, The Netherlands.\n",
      "Copyright (c) 2001-2018, The GROMACS development team at\n",
      "Uppsala University, Stockholm University and\n",
      "the Royal Institute of Technology, Sweden.\n",
      "check out http://www.gromacs.org for more information.\n",
      "\n",
      "GROMACS is free software; you can redistribute it and/or modify it\n",
      "under the terms of the GNU Lesser General Public License\n",
      "as published by the Free Software Foundation; either version 2.1\n",
      "of the License, or (at your option) any later version.\n",
      "\n",
      "GROMACS:      gmx grompp, version 2019.1\n",
      "Executable:   /Users/jeffreywagner/miniconda3/envs/openforcefield/bin/gmx\n",
      "Data prefix:  /Users/jeffreywagner/miniconda3/envs/openforcefield\n",
      "Working dir:  /Users/jeffreywagner/projects/OpenForceField/openforcefield/examples/toolkit_showcase\n",
      "Command line:\n",
      "  gmx grompp -f nvt.mdp -c em.gro -r em.gro -p system.top -o nvt.tpr -maxwarn 1\n",
      "\n",
      "Ignoring obsolete mdp entry 'title'\n",
      "Setting the LD random seed to 1015362873\n",
      "Generated 190 of the 190 non-bonded parameter combinations\n"
     ]
    },
    {
     "name": "stdout",
     "output_type": "stream",
     "text": [
      "Excluding 3 bonded neighbours molecule type 'system1'\n",
      "turning H bonds into constraints...\n",
      "Excluding 3 bonded neighbours molecule type 'HOH'\n",
      "turning H bonds into constraints...\n",
      "Excluding 3 bonded neighbours molecule type 'NA'\n",
      "turning H bonds into constraints...\n",
      "Excluding 3 bonded neighbours molecule type 'CL'\n",
      "turning H bonds into constraints...\n",
      "Excluding 3 bonded neighbours molecule type 'CHEMBL1078774'\n",
      "turning H bonds into constraints...\n",
      "\n",
      "NOTE 1 [file system.top, line 52558]:\n",
      "  System has non-zero total charge: 0.004995\n",
      "  Total charge should normally be an integer. See\n",
      "  http://www.gromacs.org/Documentation/Floating_Point_Arithmetic\n",
      "  for discussion on how close it should be to an integer.\n",
      "  \n",
      "\n",
      "\n",
      "\n",
      "WARNING 1 [file system.top, line 52558]:\n",
      "  You are using Ewald electrostatics in a system with net charge. This can\n",
      "  lead to severe artifacts, such as ions moving into regions with low\n",
      "  dielectric, due to the uniform background charge. We suggest to\n",
      "  neutralize your system with counter ions, possibly in combination with a\n",
      "  physiological salt concentration.\n",
      "\n",
      "\n",
      "++++ PLEASE READ AND CITE THE FOLLOWING REFERENCE ++++\n",
      "J. S. Hub, B. L. de Groot, H. Grubmueller, G. Groenhof\n",
      "Quantifying Artifacts in Ewald Simulations of Inhomogeneous Systems with a Net\n",
      "Charge\n",
      "J. Chem. Theory Comput. 10 (2014) pp. 381-393\n",
      "-------- -------- --- Thank You --- -------- --------\n",
      "\n",
      "Setting gen_seed to 1380998974\n",
      "Velocities were taken from a Maxwell distribution at 300 K\n",
      "Removing all charge groups because cutoff-scheme=Verlet\n",
      "Analysing residue names:\n",
      "There are:   349    Protein residues\n",
      "There are: 11503      Water residues\n",
      "There are:    62        Ion residues\n",
      "There are:     1      Other residues\n",
      "Analysing Protein...\n",
      "Analysing residues not classified as Protein/DNA/RNA/Water and splitting into groups...\n",
      "Analysing residues not classified as Protein/DNA/RNA/Water and splitting into groups...\n",
      "Number of degrees of freedom in T-Coupling group Protein is 13666.51\n",
      "Number of degrees of freedom in T-Coupling group non-Protein is 69331.49\n",
      "Determining Verlet buffer for a tolerance of 0.005 kJ/mol/ps at 300 K\n",
      "Calculated rlist for 1x1 atom pair-list as 1.032 nm, buffer size 0.032 nm\n",
      "Set rlist, assuming 4x4 atom pair-list, to 1.000 nm, buffer size 0.000 nm\n",
      "Note that mdrun will redetermine rlist based on the actual pair-list setup\n",
      "Calculating fourier grid dimensions for X Y Z\n",
      "Using a fourier grid of 48x48x48, spacing 0.158 0.158 0.158\n",
      "Estimate for the relative computational load of the PME mesh part: 0.16\n",
      "This run will generate roughly 6 Mb of data\n",
      "\n",
      "There was 1 note\n",
      "\n",
      "There was 1 warning\n",
      "\n",
      "Back Off! I just backed up nvt.tpr to ./#nvt.tpr.1#\n",
      "\n",
      "GROMACS reminds you: \"As an adolescent I aspired to lasting fame, I craved factual certainty, and I thirsted for a meaningful vision of human life -- so I became a scientist. This is like becoming an archbishop so you can meet girls.\" (Matt Cartmill)\n",
      "\n",
      "                      :-) GROMACS - gmx mdrun, 2019.1 (-:\n",
      "\n",
      "                            GROMACS is written by:\n",
      "     Emile Apol      Rossen Apostolov      Paul Bauer     Herman J.C. Berendsen\n",
      "    Par Bjelkmar      Christian Blau   Viacheslav Bolnykh     Kevin Boyd    \n",
      " Aldert van Buuren   Rudi van Drunen     Anton Feenstra       Alan Gray     \n",
      "  Gerrit Groenhof     Anca Hamuraru    Vincent Hindriksen  M. Eric Irrgang  \n",
      "  Aleksei Iupinov   Christoph Junghans     Joe Jordan     Dimitrios Karkoulis\n",
      "    Peter Kasson        Jiri Kraus      Carsten Kutzner      Per Larsson    \n",
      "  Justin A. Lemkul    Viveca Lindahl    Magnus Lundborg     Erik Marklund   \n",
      "    Pascal Merz     Pieter Meulenhoff    Teemu Murtola       Szilard Pall   \n",
      "    Sander Pronk      Roland Schulz      Michael Shirts    Alexey Shvetsov  \n",
      "   Alfons Sijbers     Peter Tieleman      Jon Vincent      Teemu Virolainen \n",
      " Christian Wennberg    Maarten Wolf   \n",
      "                           and the project leaders:\n",
      "        Mark Abraham, Berk Hess, Erik Lindahl, and David van der Spoel\n",
      "\n",
      "Copyright (c) 1991-2000, University of Groningen, The Netherlands.\n",
      "Copyright (c) 2001-2018, The GROMACS development team at\n",
      "Uppsala University, Stockholm University and\n",
      "the Royal Institute of Technology, Sweden.\n",
      "check out http://www.gromacs.org for more information.\n",
      "\n",
      "GROMACS is free software; you can redistribute it and/or modify it\n",
      "under the terms of the GNU Lesser General Public License\n",
      "as published by the Free Software Foundation; either version 2.1\n",
      "of the License, or (at your option) any later version.\n",
      "\n",
      "GROMACS:      gmx mdrun, version 2019.1\n",
      "Executable:   /Users/jeffreywagner/miniconda3/envs/openforcefield/bin/gmx\n",
      "Data prefix:  /Users/jeffreywagner/miniconda3/envs/openforcefield\n",
      "Working dir:  /Users/jeffreywagner/projects/OpenForceField/openforcefield/examples/toolkit_showcase\n",
      "Command line:\n",
      "  gmx mdrun -deffnm nvt\n",
      "\n",
      "\n",
      "Back Off! I just backed up nvt.log to ./#nvt.log.1#\n",
      "Compiled SIMD: SSE2, but for this host/run AVX2_256 might be better (see log).\n",
      "The current CPU can measure timings more accurately than the code in\n",
      "gmx mdrun was configured to use. This might affect your simulation\n",
      "speed as accurate timings are needed for load-balancing.\n",
      "Please consider rebuilding gmx mdrun with the GMX_USE_RDTSCP=ON CMake option.\n",
      "Reading file nvt.tpr, VERSION 2019.1 (single precision)\n",
      "Changing nstlist from 10 to 50, rlist from 1 to 1.097\n",
      "\n",
      "\n",
      "Using 4 MPI threads\n",
      "\n",
      "Back Off! I just backed up nvt.trr to ./#nvt.trr.1#\n",
      "\n",
      "Back Off! I just backed up nvt.edr to ./#nvt.edr.1#\n",
      "starting mdrun 'Generic title'\n",
      "1000 steps,      2.0 ps.\n",
      "\n",
      "Writing final coordinates.\n",
      "\n",
      "Back Off! I just backed up nvt.gro to ./#nvt.gro.1#\n",
      "\n",
      "\n",
      "Dynamic load balancing report:\n",
      " DLB was off during the run due to low measured imbalance.\n",
      " Average load imbalance: 3.4%.\n",
      " The balanceable part of the MD step is 55%, load imbalance is computed from this.\n",
      " Part of the total run time spent waiting due to load imbalance: 1.9%.\n",
      "\n",
      "\n",
      "               Core t (s)   Wall t (s)        (%)\n",
      "       Time:      161.090       40.275      400.0\n",
      "                 (ns/day)    (hour/ns)\n",
      "Performance:        4.295        5.588\n",
      "\n",
      "GROMACS reminds you: \"Our struggle today is not to have a female Einstein get appointed as an assistant professor. It is for a woman schlemiel to get as quickly promoted as a male schlemiel.\" (Bella Abzug)\n",
      "\n",
      "                      :-) GROMACS - gmx grompp, 2019.1 (-:\n",
      "\n",
      "                            GROMACS is written by:\n",
      "     Emile Apol      Rossen Apostolov      Paul Bauer     Herman J.C. Berendsen\n",
      "    Par Bjelkmar      Christian Blau   Viacheslav Bolnykh     Kevin Boyd    \n",
      " Aldert van Buuren   Rudi van Drunen     Anton Feenstra       Alan Gray     \n",
      "  Gerrit Groenhof     Anca Hamuraru    Vincent Hindriksen  M. Eric Irrgang  \n",
      "  Aleksei Iupinov   Christoph Junghans     Joe Jordan     Dimitrios Karkoulis\n",
      "    Peter Kasson        Jiri Kraus      Carsten Kutzner      Per Larsson    \n",
      "  Justin A. Lemkul    Viveca Lindahl    Magnus Lundborg     Erik Marklund   \n",
      "    Pascal Merz     Pieter Meulenhoff    Teemu Murtola       Szilard Pall   \n",
      "    Sander Pronk      Roland Schulz      Michael Shirts    Alexey Shvetsov  \n",
      "   Alfons Sijbers     Peter Tieleman      Jon Vincent      Teemu Virolainen \n",
      " Christian Wennberg    Maarten Wolf   \n",
      "                           and the project leaders:\n",
      "        Mark Abraham, Berk Hess, Erik Lindahl, and David van der Spoel\n",
      "\n",
      "Copyright (c) 1991-2000, University of Groningen, The Netherlands.\n",
      "Copyright (c) 2001-2018, The GROMACS development team at\n",
      "Uppsala University, Stockholm University and\n",
      "the Royal Institute of Technology, Sweden.\n",
      "check out http://www.gromacs.org for more information.\n",
      "\n",
      "GROMACS is free software; you can redistribute it and/or modify it\n",
      "under the terms of the GNU Lesser General Public License\n",
      "as published by the Free Software Foundation; either version 2.1\n",
      "of the License, or (at your option) any later version.\n",
      "\n",
      "GROMACS:      gmx grompp, version 2019.1\n",
      "Executable:   /Users/jeffreywagner/miniconda3/envs/openforcefield/bin/gmx\n",
      "Data prefix:  /Users/jeffreywagner/miniconda3/envs/openforcefield\n",
      "Working dir:  /Users/jeffreywagner/projects/OpenForceField/openforcefield/examples/toolkit_showcase\n",
      "Command line:\n",
      "  gmx grompp -f npt.mdp -c nvt.gro -r nvt.gro -t nvt.cpt -p system.top -o npt.tpr -maxwarn 1\n",
      "\n",
      "Ignoring obsolete mdp entry 'title'\n",
      "Setting the LD random seed to 234600083\n",
      "Generated 190 of the 190 non-bonded parameter combinations\n"
     ]
    },
    {
     "name": "stdout",
     "output_type": "stream",
     "text": [
      "Excluding 3 bonded neighbours molecule type 'system1'\n",
      "turning H bonds into constraints...\n",
      "Excluding 3 bonded neighbours molecule type 'HOH'\n",
      "turning H bonds into constraints...\n",
      "Excluding 3 bonded neighbours molecule type 'NA'\n",
      "turning H bonds into constraints...\n",
      "Excluding 3 bonded neighbours molecule type 'CL'\n",
      "turning H bonds into constraints...\n",
      "Excluding 3 bonded neighbours molecule type 'CHEMBL1078774'\n",
      "turning H bonds into constraints...\n",
      "\n",
      "NOTE 1 [file system.top, line 52558]:\n",
      "  System has non-zero total charge: 0.004995\n",
      "  Total charge should normally be an integer. See\n",
      "  http://www.gromacs.org/Documentation/Floating_Point_Arithmetic\n",
      "  for discussion on how close it should be to an integer.\n",
      "  \n",
      "\n",
      "\n",
      "\n",
      "WARNING 1 [file system.top, line 52558]:\n",
      "  You are using Ewald electrostatics in a system with net charge. This can\n",
      "  lead to severe artifacts, such as ions moving into regions with low\n",
      "  dielectric, due to the uniform background charge. We suggest to\n",
      "  neutralize your system with counter ions, possibly in combination with a\n",
      "  physiological salt concentration.\n",
      "\n",
      "\n",
      "++++ PLEASE READ AND CITE THE FOLLOWING REFERENCE ++++\n",
      "J. S. Hub, B. L. de Groot, H. Grubmueller, G. Groenhof\n",
      "Quantifying Artifacts in Ewald Simulations of Inhomogeneous Systems with a Net\n",
      "Charge\n",
      "J. Chem. Theory Comput. 10 (2014) pp. 381-393\n",
      "-------- -------- --- Thank You --- -------- --------\n",
      "\n",
      "Removing all charge groups because cutoff-scheme=Verlet\n",
      "Analysing residue names:\n",
      "There are:   349    Protein residues\n",
      "There are: 11503      Water residues\n",
      "There are:    62        Ion residues\n",
      "There are:     1      Other residues\n",
      "Analysing Protein...\n",
      "Analysing residues not classified as Protein/DNA/RNA/Water and splitting into groups...\n",
      "Analysing residues not classified as Protein/DNA/RNA/Water and splitting into groups...\n",
      "Number of degrees of freedom in T-Coupling group Protein is 13666.51\n",
      "Number of degrees of freedom in T-Coupling group non-Protein is 69331.49\n",
      "Determining Verlet buffer for a tolerance of 0.005 kJ/mol/ps at 300 K\n",
      "Calculated rlist for 1x1 atom pair-list as 1.032 nm, buffer size 0.032 nm\n",
      "Set rlist, assuming 4x4 atom pair-list, to 1.000 nm, buffer size 0.000 nm\n",
      "Note that mdrun will redetermine rlist based on the actual pair-list setup\n",
      "Reading Coordinates, Velocities and Box size from old trajectory\n",
      "Will read whole trajectory\n",
      "Last frame         -1 time    2.000   \n",
      "Using frame at t = 2 ps\n",
      "Starting time for run is 0 ps\n",
      "Calculating fourier grid dimensions for X Y Z\n",
      "Using a fourier grid of 48x48x48, spacing 0.158 0.158 0.158\n",
      "Estimate for the relative computational load of the PME mesh part: 0.16\n",
      "This run will generate roughly 4 Mb of data\n",
      "\n",
      "There was 1 note\n",
      "\n",
      "There was 1 warning\n",
      "\n",
      "Back Off! I just backed up npt.tpr to ./#npt.tpr.1#\n",
      "\n",
      "GROMACS reminds you: \"Jede der Scherben spiegelt das Licht\" (Wir sind Helden)\n",
      "\n",
      "                      :-) GROMACS - gmx mdrun, 2019.1 (-:\n",
      "\n",
      "                            GROMACS is written by:\n",
      "     Emile Apol      Rossen Apostolov      Paul Bauer     Herman J.C. Berendsen\n",
      "    Par Bjelkmar      Christian Blau   Viacheslav Bolnykh     Kevin Boyd    \n",
      " Aldert van Buuren   Rudi van Drunen     Anton Feenstra       Alan Gray     \n",
      "  Gerrit Groenhof     Anca Hamuraru    Vincent Hindriksen  M. Eric Irrgang  \n",
      "  Aleksei Iupinov   Christoph Junghans     Joe Jordan     Dimitrios Karkoulis\n",
      "    Peter Kasson        Jiri Kraus      Carsten Kutzner      Per Larsson    \n",
      "  Justin A. Lemkul    Viveca Lindahl    Magnus Lundborg     Erik Marklund   \n",
      "    Pascal Merz     Pieter Meulenhoff    Teemu Murtola       Szilard Pall   \n",
      "    Sander Pronk      Roland Schulz      Michael Shirts    Alexey Shvetsov  \n",
      "   Alfons Sijbers     Peter Tieleman      Jon Vincent      Teemu Virolainen \n",
      " Christian Wennberg    Maarten Wolf   \n",
      "                           and the project leaders:\n",
      "        Mark Abraham, Berk Hess, Erik Lindahl, and David van der Spoel\n",
      "\n",
      "Copyright (c) 1991-2000, University of Groningen, The Netherlands.\n",
      "Copyright (c) 2001-2018, The GROMACS development team at\n",
      "Uppsala University, Stockholm University and\n",
      "the Royal Institute of Technology, Sweden.\n",
      "check out http://www.gromacs.org for more information.\n",
      "\n",
      "GROMACS is free software; you can redistribute it and/or modify it\n",
      "under the terms of the GNU Lesser General Public License\n",
      "as published by the Free Software Foundation; either version 2.1\n",
      "of the License, or (at your option) any later version.\n",
      "\n",
      "GROMACS:      gmx mdrun, version 2019.1\n",
      "Executable:   /Users/jeffreywagner/miniconda3/envs/openforcefield/bin/gmx\n",
      "Data prefix:  /Users/jeffreywagner/miniconda3/envs/openforcefield\n",
      "Working dir:  /Users/jeffreywagner/projects/OpenForceField/openforcefield/examples/toolkit_showcase\n",
      "Command line:\n",
      "  gmx mdrun -deffnm npt\n",
      "\n",
      "\n",
      "Back Off! I just backed up npt.log to ./#npt.log.1#\n",
      "Compiled SIMD: SSE2, but for this host/run AVX2_256 might be better (see log).\n",
      "The current CPU can measure timings more accurately than the code in\n",
      "gmx mdrun was configured to use. This might affect your simulation\n",
      "speed as accurate timings are needed for load-balancing.\n",
      "Please consider rebuilding gmx mdrun with the GMX_USE_RDTSCP=ON CMake option.\n",
      "Reading file npt.tpr, VERSION 2019.1 (single precision)\n",
      "Changing nstlist from 10 to 50, rlist from 1 to 1.097\n",
      "\n",
      "\n",
      "Using 4 MPI threads\n",
      "\n",
      "Back Off! I just backed up npt.trr to ./#npt.trr.1#\n",
      "\n",
      "Back Off! I just backed up npt.edr to ./#npt.edr.1#\n",
      "starting mdrun 'Generic title'\n",
      "1000 steps,      2.0 ps.\n",
      "\n",
      "Writing final coordinates.\n",
      "\n",
      "Back Off! I just backed up npt.gro to ./#npt.gro.1#\n",
      "\n",
      "\n",
      "Dynamic load balancing report:\n",
      " DLB was off during the run due to low measured imbalance.\n",
      " Average load imbalance: 3.7%.\n",
      " The balanceable part of the MD step is 55%, load imbalance is computed from this.\n",
      " Part of the total run time spent waiting due to load imbalance: 2.0%.\n",
      "\n",
      "\n",
      "               Core t (s)   Wall t (s)        (%)\n",
      "       Time:      187.968       46.993      400.0\n",
      "                 (ns/day)    (hour/ns)\n",
      "Performance:        3.681        6.520\n",
      "\n",
      "GROMACS reminds you: \"It Doesn't Have to Be Tip Top\" (Pulp Fiction)\n",
      "\n",
      "                      :-) GROMACS - gmx grompp, 2019.1 (-:\n",
      "\n",
      "                            GROMACS is written by:\n",
      "     Emile Apol      Rossen Apostolov      Paul Bauer     Herman J.C. Berendsen\n",
      "    Par Bjelkmar      Christian Blau   Viacheslav Bolnykh     Kevin Boyd    \n",
      " Aldert van Buuren   Rudi van Drunen     Anton Feenstra       Alan Gray     \n",
      "  Gerrit Groenhof     Anca Hamuraru    Vincent Hindriksen  M. Eric Irrgang  \n",
      "  Aleksei Iupinov   Christoph Junghans     Joe Jordan     Dimitrios Karkoulis\n",
      "    Peter Kasson        Jiri Kraus      Carsten Kutzner      Per Larsson    \n",
      "  Justin A. Lemkul    Viveca Lindahl    Magnus Lundborg     Erik Marklund   \n",
      "    Pascal Merz     Pieter Meulenhoff    Teemu Murtola       Szilard Pall   \n",
      "    Sander Pronk      Roland Schulz      Michael Shirts    Alexey Shvetsov  \n",
      "   Alfons Sijbers     Peter Tieleman      Jon Vincent      Teemu Virolainen \n",
      " Christian Wennberg    Maarten Wolf   \n",
      "                           and the project leaders:\n",
      "        Mark Abraham, Berk Hess, Erik Lindahl, and David van der Spoel\n",
      "\n",
      "Copyright (c) 1991-2000, University of Groningen, The Netherlands.\n",
      "Copyright (c) 2001-2018, The GROMACS development team at\n",
      "Uppsala University, Stockholm University and\n",
      "the Royal Institute of Technology, Sweden.\n",
      "check out http://www.gromacs.org for more information.\n",
      "\n",
      "GROMACS is free software; you can redistribute it and/or modify it\n",
      "under the terms of the GNU Lesser General Public License\n",
      "as published by the Free Software Foundation; either version 2.1\n",
      "of the License, or (at your option) any later version.\n",
      "\n",
      "GROMACS:      gmx grompp, version 2019.1\n",
      "Executable:   /Users/jeffreywagner/miniconda3/envs/openforcefield/bin/gmx\n",
      "Data prefix:  /Users/jeffreywagner/miniconda3/envs/openforcefield\n",
      "Working dir:  /Users/jeffreywagner/projects/OpenForceField/openforcefield/examples/toolkit_showcase\n",
      "Command line:\n",
      "  gmx grompp -f md.mdp -c npt.gro -t npt.cpt -p system.top -o md_0_1.tpr -maxwarn 1\n",
      "\n",
      "Ignoring obsolete mdp entry 'title'\n",
      "Setting the LD random seed to 1217011722\n",
      "Generated 190 of the 190 non-bonded parameter combinations\n",
      "Excluding 3 bonded neighbours molecule type 'system1'\n",
      "turning H bonds into constraints...\n",
      "Excluding 3 bonded neighbours molecule type 'HOH'\n",
      "turning H bonds into constraints...\n",
      "Excluding 3 bonded neighbours molecule type 'NA'\n",
      "turning H bonds into constraints...\n",
      "Excluding 3 bonded neighbours molecule type 'CL'\n",
      "turning H bonds into constraints...\n",
      "Excluding 3 bonded neighbours molecule type 'CHEMBL1078774'\n",
      "turning H bonds into constraints...\n",
      "\n",
      "NOTE 1 [file system.top, line 52558]:\n",
      "  System has non-zero total charge: 0.004995\n",
      "  Total charge should normally be an integer. See\n",
      "  http://www.gromacs.org/Documentation/Floating_Point_Arithmetic\n",
      "  for discussion on how close it should be to an integer.\n",
      "  \n",
      "\n",
      "\n",
      "\n",
      "WARNING 1 [file system.top, line 52558]:\n",
      "  You are using Ewald electrostatics in a system with net charge. This can\n",
      "  lead to severe artifacts, such as ions moving into regions with low\n",
      "  dielectric, due to the uniform background charge. We suggest to\n",
      "  neutralize your system with counter ions, possibly in combination with a\n",
      "  physiological salt concentration.\n",
      "\n",
      "\n",
      "++++ PLEASE READ AND CITE THE FOLLOWING REFERENCE ++++\n",
      "J. S. Hub, B. L. de Groot, H. Grubmueller, G. Groenhof\n",
      "Quantifying Artifacts in Ewald Simulations of Inhomogeneous Systems with a Net\n",
      "Charge\n",
      "J. Chem. Theory Comput. 10 (2014) pp. 381-393\n",
      "-------- -------- --- Thank You --- -------- --------\n",
      "\n"
     ]
    },
    {
     "name": "stdout",
     "output_type": "stream",
     "text": [
      "Removing all charge groups because cutoff-scheme=Verlet\n",
      "Analysing residue names:\n",
      "There are:   349    Protein residues\n",
      "There are: 11503      Water residues\n",
      "There are:    62        Ion residues\n",
      "There are:     1      Other residues\n",
      "Analysing Protein...\n",
      "Analysing residues not classified as Protein/DNA/RNA/Water and splitting into groups...\n",
      "Analysing residues not classified as Protein/DNA/RNA/Water and splitting into groups...\n",
      "Number of degrees of freedom in T-Coupling group Protein is 13666.51\n",
      "Number of degrees of freedom in T-Coupling group non-Protein is 69331.49\n",
      "Determining Verlet buffer for a tolerance of 0.005 kJ/mol/ps at 300 K\n",
      "Calculated rlist for 1x1 atom pair-list as 1.033 nm, buffer size 0.033 nm\n",
      "Set rlist, assuming 4x4 atom pair-list, to 1.000 nm, buffer size 0.000 nm\n",
      "Note that mdrun will redetermine rlist based on the actual pair-list setup\n",
      "Reading Coordinates, Velocities and Box size from old trajectory\n",
      "Will read whole trajectory\n",
      "Last frame         -1 time    2.000   \n",
      "Using frame at t = 2 ps\n",
      "Starting time for run is 0 ps\n",
      "Calculating fourier grid dimensions for X Y Z\n",
      "Using a fourier grid of 48x48x48, spacing 0.154 0.154 0.154\n",
      "Estimate for the relative computational load of the PME mesh part: 0.15\n",
      "This run will generate roughly 22 Mb of data\n",
      "\n",
      "There was 1 note\n",
      "\n",
      "There was 1 warning\n",
      "\n",
      "Back Off! I just backed up md_0_1.tpr to ./#md_0_1.tpr.1#\n",
      "\n",
      "GROMACS reminds you: \"It's an easy game, just don't let the ball past!\" (Szilard Pall)\n",
      "\n",
      "                      :-) GROMACS - gmx mdrun, 2019.1 (-:\n",
      "\n",
      "                            GROMACS is written by:\n",
      "     Emile Apol      Rossen Apostolov      Paul Bauer     Herman J.C. Berendsen\n",
      "    Par Bjelkmar      Christian Blau   Viacheslav Bolnykh     Kevin Boyd    \n",
      " Aldert van Buuren   Rudi van Drunen     Anton Feenstra       Alan Gray     \n",
      "  Gerrit Groenhof     Anca Hamuraru    Vincent Hindriksen  M. Eric Irrgang  \n",
      "  Aleksei Iupinov   Christoph Junghans     Joe Jordan     Dimitrios Karkoulis\n",
      "    Peter Kasson        Jiri Kraus      Carsten Kutzner      Per Larsson    \n",
      "  Justin A. Lemkul    Viveca Lindahl    Magnus Lundborg     Erik Marklund   \n",
      "    Pascal Merz     Pieter Meulenhoff    Teemu Murtola       Szilard Pall   \n",
      "    Sander Pronk      Roland Schulz      Michael Shirts    Alexey Shvetsov  \n",
      "   Alfons Sijbers     Peter Tieleman      Jon Vincent      Teemu Virolainen \n",
      " Christian Wennberg    Maarten Wolf   \n",
      "                           and the project leaders:\n",
      "        Mark Abraham, Berk Hess, Erik Lindahl, and David van der Spoel\n",
      "\n",
      "Copyright (c) 1991-2000, University of Groningen, The Netherlands.\n",
      "Copyright (c) 2001-2018, The GROMACS development team at\n",
      "Uppsala University, Stockholm University and\n",
      "the Royal Institute of Technology, Sweden.\n",
      "check out http://www.gromacs.org for more information.\n",
      "\n",
      "GROMACS is free software; you can redistribute it and/or modify it\n",
      "under the terms of the GNU Lesser General Public License\n",
      "as published by the Free Software Foundation; either version 2.1\n",
      "of the License, or (at your option) any later version.\n",
      "\n",
      "GROMACS:      gmx mdrun, version 2019.1\n",
      "Executable:   /Users/jeffreywagner/miniconda3/envs/openforcefield/bin/gmx\n",
      "Data prefix:  /Users/jeffreywagner/miniconda3/envs/openforcefield\n",
      "Working dir:  /Users/jeffreywagner/projects/OpenForceField/openforcefield/examples/toolkit_showcase\n",
      "Command line:\n",
      "  gmx mdrun -deffnm md_0_1\n",
      "\n",
      "\n",
      "Back Off! I just backed up md_0_1.log to ./#md_0_1.log.1#\n",
      "Compiled SIMD: SSE2, but for this host/run AVX2_256 might be better (see log).\n",
      "The current CPU can measure timings more accurately than the code in\n",
      "gmx mdrun was configured to use. This might affect your simulation\n",
      "speed as accurate timings are needed for load-balancing.\n",
      "Please consider rebuilding gmx mdrun with the GMX_USE_RDTSCP=ON CMake option.\n",
      "Reading file md_0_1.tpr, VERSION 2019.1 (single precision)\n",
      "Changing nstlist from 10 to 50, rlist from 1 to 1.101\n",
      "\n",
      "\n",
      "Using 4 MPI threads\n",
      "\n",
      "Back Off! I just backed up md_0_1.xtc to ./#md_0_1.xtc.1#\n",
      "\n",
      "Back Off! I just backed up md_0_1.edr to ./#md_0_1.edr.1#\n",
      "starting mdrun 'Generic title'\n",
      "1000 steps,      2.0 ps.\n",
      "\n",
      "Writing final coordinates.\n",
      "\n",
      "Back Off! I just backed up md_0_1.gro to ./#md_0_1.gro.1#\n",
      "\n",
      "\n",
      "Dynamic load balancing report:\n",
      " DLB was turned on during the run due to measured imbalance.\n",
      " Average load imbalance: 2.8%.\n",
      " The balanceable part of the MD step is 56%, load imbalance is computed from this.\n",
      " Part of the total run time spent waiting due to load imbalance: 1.6%.\n",
      " Steps where the load balancing was limited by -rdd, -rcon and/or -dds: X 0 %\n",
      "\n",
      "\n",
      "               Core t (s)   Wall t (s)        (%)\n",
      "       Time:      183.951       45.989      400.0\n",
      "                 (ns/day)    (hour/ns)\n",
      "Performance:        3.761        6.381\n",
      "\n",
      "GROMACS reminds you: \"I removed all the lambda defaults so that users have to think!\" (Berk Hess)\n",
      "\n"
     ]
    }
   ],
   "source": [
    "! gmx grompp -f minim.mdp -c system.gro -p system.top -o em.tpr -maxwarn 1\n",
    "! gmx mdrun -deffnm em\n",
    "\n",
    "! gmx grompp -f nvt.mdp -c em.gro -r em.gro -p system.top -o nvt.tpr -maxwarn 1\n",
    "! gmx mdrun -deffnm nvt\n",
    "\n",
    "! gmx grompp -f npt.mdp -c nvt.gro -r nvt.gro -t nvt.cpt -p system.top -o npt.tpr -maxwarn 1\n",
    "! gmx mdrun -deffnm npt\n",
    "\n",
    "! gmx grompp -f md.mdp -c npt.gro -t npt.cpt -p system.top -o md_0_1.tpr -maxwarn 1\n",
    "! gmx mdrun -deffnm md_0_1"
   ]
  },
  {
   "cell_type": "markdown",
   "metadata": {},
   "source": [
    "* Magic:\n",
    "    * MDP files already prepared\n",
    "    * `maxwarn 1` becuase of rounding errors with charges\n",
    "* ParmEd *is* great, but *isn't* perfect, and we're actively working on bugfixes.\n",
    "* We have philosophical differences about what constitutes \"parameterization\" \n",
    "    * Hbond constraints?\n",
    "    * Electrostatics cutoffs?\n",
    "* ParmEd is unable to process several OpenMM GBSA models\n",
    "\n",
    "_(Takes 120 seconds)_\n"
   ]
  },
  {
   "cell_type": "code",
   "execution_count": 20,
   "metadata": {},
   "outputs": [
    {
     "ename": "MemoryError",
     "evalue": "Unable to allocate 84.8 TiB for an array with shape (193718240, 40097, 3) and data type float32",
     "output_type": "error",
     "traceback": [
      "\u001b[0;31m---------------------------------------------------------------------------\u001b[0m",
      "\u001b[0;31mMemoryError\u001b[0m                               Traceback (most recent call last)",
      "\u001b[0;32m<ipython-input-20-adcdb61a4f80>\u001b[0m in \u001b[0;36m<module>\u001b[0;34m()\u001b[0m\n\u001b[0;32m----> 1\u001b[0;31m \u001b[0mmdt_traj\u001b[0m \u001b[0;34m=\u001b[0m \u001b[0mmdt\u001b[0m\u001b[0;34m.\u001b[0m\u001b[0mload\u001b[0m\u001b[0;34m(\u001b[0m\u001b[0;34m'md_0_1.xtc'\u001b[0m\u001b[0;34m,\u001b[0m \u001b[0mtop\u001b[0m\u001b[0;34m=\u001b[0m\u001b[0;34m'system.gro'\u001b[0m\u001b[0;34m)\u001b[0m\u001b[0;34m\u001b[0m\u001b[0;34m\u001b[0m\u001b[0m\n\u001b[0m\u001b[1;32m      2\u001b[0m \u001b[0mprint\u001b[0m\u001b[0;34m(\u001b[0m\u001b[0mmdt_traj\u001b[0m\u001b[0;34m)\u001b[0m\u001b[0;34m\u001b[0m\u001b[0;34m\u001b[0m\u001b[0m\n",
      "\u001b[0;32m/Users/jeffreywagner/miniconda3/envs/openforcefield/lib/python3.7/site-packages/mdtraj/core/trajectory.py\u001b[0m in \u001b[0;36mload\u001b[0;34m(filename_or_filenames, discard_overlapping_frames, **kwargs)\u001b[0m\n\u001b[1;32m    431\u001b[0m         \u001b[0m_assert_files_or_dirs_exist\u001b[0m\u001b[0;34m(\u001b[0m\u001b[0mfilename_or_filenames\u001b[0m\u001b[0;34m)\u001b[0m\u001b[0;34m\u001b[0m\u001b[0;34m\u001b[0m\u001b[0m\n\u001b[1;32m    432\u001b[0m \u001b[0;34m\u001b[0m\u001b[0m\n\u001b[0;32m--> 433\u001b[0;31m     \u001b[0mvalue\u001b[0m \u001b[0;34m=\u001b[0m \u001b[0mloader\u001b[0m\u001b[0;34m(\u001b[0m\u001b[0mfilename\u001b[0m\u001b[0;34m,\u001b[0m \u001b[0;34m**\u001b[0m\u001b[0mkwargs\u001b[0m\u001b[0;34m)\u001b[0m\u001b[0;34m\u001b[0m\u001b[0;34m\u001b[0m\u001b[0m\n\u001b[0m\u001b[1;32m    434\u001b[0m     \u001b[0;32mreturn\u001b[0m \u001b[0mvalue\u001b[0m\u001b[0;34m\u001b[0m\u001b[0;34m\u001b[0m\u001b[0m\n\u001b[1;32m    435\u001b[0m \u001b[0;34m\u001b[0m\u001b[0m\n",
      "\u001b[0;32mmdtraj/formats/xtc/xtc.pyx\u001b[0m in \u001b[0;36mmdtraj.formats.xtc.load_xtc\u001b[0;34m()\u001b[0m\n",
      "\u001b[0;32mmdtraj/formats/xtc/xtc.pyx\u001b[0m in \u001b[0;36mmdtraj.formats.xtc.load_xtc\u001b[0;34m()\u001b[0m\n",
      "\u001b[0;32mmdtraj/formats/xtc/xtc.pyx\u001b[0m in \u001b[0;36mmdtraj.formats.xtc.XTCTrajectoryFile.read_as_traj\u001b[0;34m()\u001b[0m\n",
      "\u001b[0;32mmdtraj/formats/xtc/xtc.pyx\u001b[0m in \u001b[0;36mmdtraj.formats.xtc.XTCTrajectoryFile.read\u001b[0;34m()\u001b[0m\n",
      "\u001b[0;32mmdtraj/formats/xtc/xtc.pyx\u001b[0m in \u001b[0;36mmdtraj.formats.xtc.XTCTrajectoryFile._read\u001b[0;34m()\u001b[0m\n",
      "\u001b[0;31mMemoryError\u001b[0m: Unable to allocate 84.8 TiB for an array with shape (193718240, 40097, 3) and data type float32"
     ]
    }
   ],
   "source": [
    "mdt_traj = mdt.load('md_0_1.xtc', top='system.gro')\n",
    "print(mdt_traj)"
   ]
  },
  {
   "cell_type": "code",
   "execution_count": null,
   "metadata": {
    "scrolled": false
   },
   "outputs": [],
   "source": [
    "import nglview\n",
    "\n",
    "view = nglview.show_mdtraj(mdt_traj)\n",
    "view"
   ]
  },
  {
   "cell_type": "markdown",
   "metadata": {},
   "source": [
    "### Workflow 1 Conclusions\n",
    "* Toolkit parameterization requires *8 lines*, three of which are cheap hacks \n",
    "* Conda-installable, open source tools performed everything from basic system prep to simulation and visualization\n",
    "* Using OpenMM, we never had to leave Python\n",
    "* Using ParmEd, there was little additional work to running with GROMACS\n",
    "\n",
    "\n",
    "<img src=\"img/dog_food.jpg\" alt=\"drawing\" width=\"350\"/>\n"
   ]
  },
  {
   "cell_type": "markdown",
   "metadata": {},
   "source": [
    "## Workflow 2: Changing force field parameters and energy-minimizing the resulting molecule\n",
    "\n",
    "\n",
    "### Note the recent change to the SMIRNOFF 0.3 specification\n",
    "\n",
    "```\n",
    "<Angles version=\"0.3\" potential=\"harmonic\">\n",
    "\t\t<Angle smirks=\"[*:1]~[#6X4:2]-[*:3]\" angle=\"109.5*degree\" k=\"100.0*mole**-1*radian**-2*kilocalorie\"/>\n",
    "\t\t<Angle smirks=\"[#1:1]-[#6X4:2]-[#1:3]\" angle=\"109.5*degree\" k=\"70.0*mole**-1*radian**-2*kilocalorie\"/>\n",
    "</Angles>\n",
    "```\n",
    "<hr/>"
   ]
  },
  {
   "cell_type": "markdown",
   "metadata": {},
   "source": [
    "### Getting started\n",
    "\n",
    "Let's reload the ligand, in case the live demo had a hiccup above.\n",
    "\n",
    "Magic:\n",
    "* To avoid spending time running AM1-BCC again, I'm providing explicitly-defined charges"
   ]
  },
  {
   "cell_type": "code",
   "execution_count": 20,
   "metadata": {},
   "outputs": [],
   "source": [
    "from openforcefield.topology import Molecule, Topology\n",
    "from openforcefield.typing.engines.smirnoff import ForceField\n",
    "ligand_path = 'fep-benchmark/eg5/chembl_1078774.sdf'\n",
    "ligand = Molecule.from_file(ligand_path)\n",
    "ligand.partial_charges = np.array([-0.085767, -0.0027  , -0.085767, -0.085767, -0.1043  , -0.092   ,-0.174   ,  0.1506  , -0.1383  , -0.073   ,  0.2004  , -0.4076  , 0.1254  , -0.1114  , -0.0684  , -0.1077  ,  0.2508  , -0.1043  , -0.092   , -0.138   ,  0.1021  , -0.4871  ,  0.0369  , -0.1449  , -0.124   , -0.7206  ,  0.036144,  0.036144,  0.036144,  0.036144, 0.036144,  0.036144,  0.036144,  0.036144,  0.036144,  0.131   , 0.135   ,  0.138   ,  0.0437  ,  0.0442  ,  0.0442  ,  0.0497  , 0.0497  ,  0.0497  ,  0.0497  ,  0.0567  ,  0.0837  ,  0.147   , 0.159   ,  0.432   ,  0.15    ,  0.3978  ]) * unit.elementary_charge\n",
    "ligand_positions = ligand.conformers[0]\n",
    "ligand_topology = ligand.to_topology()"
   ]
  },
  {
   "cell_type": "markdown",
   "metadata": {},
   "source": [
    "First, we use `ForceField.label_molecules` to identify which torsion parameters were assigned to the hydroxyl."
   ]
  },
  {
   "cell_type": "code",
   "execution_count": 21,
   "metadata": {},
   "outputs": [
    {
     "name": "stdout",
     "output_type": "stream",
     "text": [
      "(19, 20, 21, 49) <ProperTorsionType with smirks: [*:1]~[#6X3:2]-[#8X2:3]-[#1:4]  periodicity1: 2  phase1: 180.0 deg  id: t97  k1: 0.8722932201352 kcal/mol  idivf1: 1.0  >\n",
      "(22, 20, 21, 49) <ProperTorsionType with smirks: [*:1]~[#6X3:2]-[#8X2:3]-[#1:4]  periodicity1: 2  phase1: 180.0 deg  id: t97  k1: 0.8722932201352 kcal/mol  idivf1: 1.0  >\n"
     ]
    }
   ],
   "source": [
    "openff_forcefield = ForceField('openff-1.2.0.offxml')\n",
    "ff_applied_parameters = openff_forcefield.label_molecules(ligand_topology)[0]\n",
    "for atoms, parameter in ff_applied_parameters['ProperTorsions'].items():\n",
    "    ele_1 = ligand.atoms[atoms[0]].element.symbol\n",
    "    ele_2 = ligand.atoms[atoms[1]].element.symbol\n",
    "    ele_3 = ligand.atoms[atoms[2]].element.symbol\n",
    "    ele_4 = ligand.atoms[atoms[3]].element.symbol\n",
    "    if (ele_1 == 'H' and ele_2 == 'O') or (ele_3 == 'O' and ele_4 == 'H'):\n",
    "        print(atoms, parameter)"
   ]
  },
  {
   "cell_type": "code",
   "execution_count": 22,
   "metadata": {},
   "outputs": [],
   "source": [
    "hydroxyl_torsion = openff_forcefield.get_parameter_handler('ProperTorsions').parameters['[*:1]~[#6X3:2]-[#8X2:3]-[#1:4]']\n",
    "hydroxyl_torsion.periodicity1 = 2\n",
    "hydroxyl_torsion.phase1 = 180 * unit.degree\n",
    "hydroxyl_torsion.k1 = -10 * unit.kilocalorie / unit.mole"
   ]
  },
  {
   "cell_type": "markdown",
   "metadata": {},
   "source": [
    "## Define a function to take an OpenFF molecule and ForceField and visualize the minimized structure"
   ]
  },
  {
   "cell_type": "code",
   "execution_count": 23,
   "metadata": {
    "scrolled": true
   },
   "outputs": [],
   "source": [
    "def minimize_and_visualize(molecule, forcefield):\n",
    "    mol_topology = molecule.to_topology()\n",
    "    mol_system = openff_forcefield.create_openmm_system(mol_topology, charge_from_molecules=[molecule])\n",
    "    \n",
    "    integrator = LangevinIntegrator(300*unit.kelvin, 1/unit.picosecond, 0.002*unit.picoseconds)\n",
    "    simulation = app.Simulation(mol_topology.to_openmm(), mol_system, integrator)\n",
    "    simulation.context.setPositions(molecule.conformers[0])\n",
    "    simulation.minimizeEnergy()\n",
    "    with NamedTemporaryFile(suffix='.pdb') as tf:\n",
    "        app.PDBFile.writeModel(simulation.topology, simulation.context.getState(getPositions=True).getPositions(), open(tf.name, 'w'))\n",
    "        view = nglview.show_file(tf.name)\n",
    "    return view"
   ]
  },
  {
   "cell_type": "code",
   "execution_count": 24,
   "metadata": {},
   "outputs": [
    {
     "data": {
      "application/vnd.jupyter.widget-view+json": {
       "model_id": "c1387e1ef0ae4f42ae849def2c649138",
       "version_major": 2,
       "version_minor": 0
      },
      "text/plain": [
       "NGLWidget()"
      ]
     },
     "metadata": {},
     "output_type": "display_data"
    }
   ],
   "source": [
    "view = minimize_and_visualize(ligand, openff_forcefield)\n",
    "view"
   ]
  },
  {
   "cell_type": "markdown",
   "metadata": {},
   "source": [
    "## But we didn't need the OFF toolkit to change the parameters for a _single term_\n",
    "## So, how about changing FF parameters for all H-X-H angles?"
   ]
  },
  {
   "cell_type": "code",
   "execution_count": 25,
   "metadata": {},
   "outputs": [
    {
     "name": "stdout",
     "output_type": "stream",
     "text": [
      "(26, 0, 27) <AngleType with smirks: [#1:1]-[#6X4:2]-[#1:3]  angle: 110.2468561538 deg  k: 67.57751269282 kcal/(mol rad**2)  id: a2  >\n",
      "(26, 0, 28) <AngleType with smirks: [#1:1]-[#6X4:2]-[#1:3]  angle: 110.2468561538 deg  k: 67.57751269282 kcal/(mol rad**2)  id: a2  >\n",
      "(27, 0, 28) <AngleType with smirks: [#1:1]-[#6X4:2]-[#1:3]  angle: 110.2468561538 deg  k: 67.57751269282 kcal/(mol rad**2)  id: a2  >\n",
      "(29, 2, 30) <AngleType with smirks: [#1:1]-[#6X4:2]-[#1:3]  angle: 110.2468561538 deg  k: 67.57751269282 kcal/(mol rad**2)  id: a2  >\n",
      "(29, 2, 31) <AngleType with smirks: [#1:1]-[#6X4:2]-[#1:3]  angle: 110.2468561538 deg  k: 67.57751269282 kcal/(mol rad**2)  id: a2  >\n",
      "(30, 2, 31) <AngleType with smirks: [#1:1]-[#6X4:2]-[#1:3]  angle: 110.2468561538 deg  k: 67.57751269282 kcal/(mol rad**2)  id: a2  >\n",
      "(32, 3, 33) <AngleType with smirks: [#1:1]-[#6X4:2]-[#1:3]  angle: 110.2468561538 deg  k: 67.57751269282 kcal/(mol rad**2)  id: a2  >\n",
      "(32, 3, 34) <AngleType with smirks: [#1:1]-[#6X4:2]-[#1:3]  angle: 110.2468561538 deg  k: 67.57751269282 kcal/(mol rad**2)  id: a2  >\n",
      "(33, 3, 34) <AngleType with smirks: [#1:1]-[#6X4:2]-[#1:3]  angle: 110.2468561538 deg  k: 67.57751269282 kcal/(mol rad**2)  id: a2  >\n",
      "(39, 12, 40) <AngleType with smirks: [#1:1]-[#6X4:2]-[#1:3]  angle: 110.2468561538 deg  k: 67.57751269282 kcal/(mol rad**2)  id: a2  >\n",
      "(41, 13, 42) <AngleType with smirks: [#1:1]-[#6X4:2]-[#1:3]  angle: 110.2468561538 deg  k: 67.57751269282 kcal/(mol rad**2)  id: a2  >\n",
      "(43, 14, 44) <AngleType with smirks: [#1:1]-[#6X4:2]-[#1:3]  angle: 110.2468561538 deg  k: 67.57751269282 kcal/(mol rad**2)  id: a2  >\n"
     ]
    }
   ],
   "source": [
    "ff_applied_parameters = openff_forcefield.label_molecules(ligand_topology)[0]\n",
    "for atoms, parameter in ff_applied_parameters['Angles'].items():\n",
    "    ele_1 = ligand.atoms[atoms[0]].element.symbol\n",
    "    ele_2 = ligand.atoms[atoms[1]].element.symbol\n",
    "    ele_3 = ligand.atoms[atoms[2]].element.symbol\n",
    "    if (ele_1 == 'H' and ele_3 == 'H'):\n",
    "        print(atoms, parameter)\n",
    "        "
   ]
  },
  {
   "cell_type": "code",
   "execution_count": 26,
   "metadata": {
    "scrolled": true
   },
   "outputs": [
    {
     "data": {
      "application/vnd.jupyter.widget-view+json": {
       "model_id": "210783a68a364cdb944b1ebb9af6cc10",
       "version_major": 2,
       "version_minor": 0
      },
      "text/plain": [
       "NGLWidget()"
      ]
     },
     "metadata": {},
     "output_type": "display_data"
    }
   ],
   "source": [
    "hxh_angle = openff_forcefield.get_parameter_handler('Angles').parameters['[#1:1]-[#6X4:2]-[#1:3]']\n",
    "hxh_angle.angle = 50 * unit.degree\n",
    "\n",
    "view = minimize_and_visualize(ligand, openff_forcefield)\n",
    "view"
   ]
  },
  {
   "cell_type": "markdown",
   "metadata": {},
   "source": [
    "![title](img/aperture.jpg)\n"
   ]
  },
  {
   "cell_type": "markdown",
   "metadata": {},
   "source": [
    "## Now, let's mess with some torsion parameters\n",
    "### Load a molecule with more interesting torsion from PDB, supplying complete topological information using SMILES"
   ]
  },
  {
   "cell_type": "code",
   "execution_count": 27,
   "metadata": {},
   "outputs": [
    {
     "data": {
      "application/vnd.jupyter.widget-view+json": {
       "model_id": "1b32291a599945ada798bd32f3bd8fde",
       "version_major": 2,
       "version_minor": 0
      },
      "text/plain": [
       "NGLWidget()"
      ]
     },
     "metadata": {},
     "output_type": "display_data"
    }
   ],
   "source": [
    "view = nglview.show_file('CID_15513.pdb')\n",
    "view"
   ]
  },
  {
   "cell_type": "code",
   "execution_count": 28,
   "metadata": {},
   "outputs": [],
   "source": [
    "ligand = Molecule.from_smiles('COC(=O)C1=CC=C(C=C1)C(=O)O')"
   ]
  },
  {
   "cell_type": "code",
   "execution_count": 30,
   "metadata": {},
   "outputs": [],
   "source": [
    "omm_pdbfile = app.PDBFile('CID_15513.pdb')\n",
    "ligand_topology = Topology.from_openmm(omm_pdbfile.topology, unique_molecules=[ligand])"
   ]
  },
  {
   "cell_type": "code",
   "execution_count": 31,
   "metadata": {},
   "outputs": [
    {
     "data": {
      "application/vnd.jupyter.widget-view+json": {
       "model_id": "5cef1834ed01442498501dd758541343",
       "version_major": 2,
       "version_minor": 0
      },
      "text/plain": [
       "NGLWidget()"
      ]
     },
     "metadata": {},
     "output_type": "display_data"
    }
   ],
   "source": [
    "openff_forcefield = ForceField('openff-1.2.0.offxml')\n",
    "ligand_system = openff_forcefield.create_openmm_system(ligand_topology)\n",
    "\n",
    "integrator = LangevinIntegrator(300*unit.kelvin, 1/unit.picosecond, 0.002*unit.picoseconds)\n",
    "simulation = app.Simulation(ligand_topology.to_openmm(), ligand_system, integrator)\n",
    "simulation.context.setPositions(omm_pdbfile.positions)\n",
    "simulation.minimizeEnergy()\n",
    "\n",
    "lig_struct = pmd.openmm.load_topology(simulation.topology, ligand_system, simulation.context.getState(getPositions=True).getPositions())\n",
    "with NamedTemporaryFile(suffix='.pdb') as tf:\n",
    "    app.PDBFile.writeModel(simulation.topology, simulation.context.getState(getPositions=True).getPositions(), open(tf.name, 'w'))\n",
    "    view = nglview.show_file(tf.name)\n",
    "view\n"
   ]
  },
  {
   "cell_type": "markdown",
   "metadata": {},
   "source": [
    "### Let's make the substituent groups perpendicular to the ring."
   ]
  },
  {
   "cell_type": "code",
   "execution_count": 32,
   "metadata": {
    "scrolled": true
   },
   "outputs": [
    {
     "name": "stdout",
     "output_type": "stream",
     "text": [
      "(0, 1, 2, 3) <ProperTorsionType with smirks: [#8,#16,#7:1]=[#6X3:2]-[#8X2H0:3]-[#6X4:4]  periodicity1: 2  periodicity2: 1  phase1: 180.0 deg  phase2: 180.0 deg  id: t101  k1: 2.458649012284 kcal/mol  k2: 0.2721741554653 kcal/mol  idivf1: 1.0  idivf2: 1.0  >\n",
      "(1, 2, 4, 5) <ProperTorsionType with smirks: [*:1]~[#6X3:2]-[#6X3$(*=[#8,#16,#7]):3]~[*:4]  periodicity1: 2  phase1: 180.0 deg  id: t47  k1: 0.9350453896311 kcal/mol  idivf1: 1.0  >\n",
      "(1, 2, 4, 9) <ProperTorsionType with smirks: [*:1]~[#6X3:2]-[#6X3$(*=[#8,#16,#7]):3]~[*:4]  periodicity1: 2  phase1: 180.0 deg  id: t47  k1: 0.9350453896311 kcal/mol  idivf1: 1.0  >\n",
      "(3, 2, 4, 5) <ProperTorsionType with smirks: [*:1]~[#6X3:2]-[#6X3$(*=[#8,#16,#7]):3]~[*:4]  periodicity1: 2  phase1: 180.0 deg  id: t47  k1: 0.9350453896311 kcal/mol  idivf1: 1.0  >\n",
      "(3, 2, 4, 9) <ProperTorsionType with smirks: [*:1]~[#6X3:2]-[#6X3$(*=[#8,#16,#7]):3]~[*:4]  periodicity1: 2  phase1: 180.0 deg  id: t47  k1: 0.9350453896311 kcal/mol  idivf1: 1.0  >\n",
      "(6, 7, 10, 11) <ProperTorsionType with smirks: [*:1]~[#6X3:2]-[#6X3$(*=[#8,#16,#7]):3]~[*:4]  periodicity1: 2  phase1: 180.0 deg  id: t47  k1: 0.9350453896311 kcal/mol  idivf1: 1.0  >\n",
      "(6, 7, 10, 12) <ProperTorsionType with smirks: [*:1]~[#6X3:2]-[#6X3$(*=[#8,#16,#7]):3]~[*:4]  periodicity1: 2  phase1: 180.0 deg  id: t47  k1: 0.9350453896311 kcal/mol  idivf1: 1.0  >\n",
      "(8, 7, 10, 11) <ProperTorsionType with smirks: [*:1]~[#6X3:2]-[#6X3$(*=[#8,#16,#7]):3]~[*:4]  periodicity1: 2  phase1: 180.0 deg  id: t47  k1: 0.9350453896311 kcal/mol  idivf1: 1.0  >\n",
      "(8, 7, 10, 12) <ProperTorsionType with smirks: [*:1]~[#6X3:2]-[#6X3$(*=[#8,#16,#7]):3]~[*:4]  periodicity1: 2  phase1: 180.0 deg  id: t47  k1: 0.9350453896311 kcal/mol  idivf1: 1.0  >\n",
      "(11, 10, 12, 20) <ProperTorsionType with smirks: [#1:1]-[#8X2:2]-[#6X3:3]=[#8X1:4]  periodicity1: 2  periodicity2: 1  phase1: 180.0 deg  phase2: 0.0 deg  id: t100  k1: 2.237928151469 kcal/mol  k2: 1.23728649144 kcal/mol  idivf1: 1.0  idivf2: 1.0  >\n"
     ]
    }
   ],
   "source": [
    "torsion_smirkses = set()\n",
    "ff_term_labels = openff_forcefield.label_molecules(ligand_topology)[0]\n",
    "for atoms, parameter in ff_term_labels['ProperTorsions'].items():\n",
    "    ele_1 = ligand.atoms[atoms[0]].element.symbol\n",
    "    ele_2 = ligand.atoms[atoms[1]].element.symbol\n",
    "    ele_3 = ligand.atoms[atoms[2]].element.symbol\n",
    "    ele_4 = ligand.atoms[atoms[3]].element.symbol\n",
    "    if (ele_1 == 'O') or (ele_4 == 'O'):\n",
    "        print(atoms, parameter)\n",
    "        torsion_smirkses.add(parameter.smirks)"
   ]
  },
  {
   "cell_type": "markdown",
   "metadata": {},
   "source": [
    "_You can go back to the [original FF file](https://github.com/openforcefield/openforcefields/blob/master/openforcefields/offxml/openff-1.2.0.offxml) to see where these are defined._\n",
    "\n",
    "This returns three _unique_ parameters, so I use a Python `set` to record all of their SMIRKSes.\n",
    "\n",
    "Now let's change the underlying FF to prefer those torsions being perpendicular."
   ]
  },
  {
   "cell_type": "code",
   "execution_count": 33,
   "metadata": {},
   "outputs": [],
   "source": [
    "for smarts in torsion_smirkses:\n",
    "    oxygen_torsion = openff_forcefield.get_parameter_handler('ProperTorsions').parameters[smarts]\n",
    "    oxygen_torsion.periodicity1 = 2\n",
    "    oxygen_torsion.phase1 = 180 * unit.degree\n",
    "    oxygen_torsion.k1 = -10 * unit.kilocalorie / unit.mole"
   ]
  },
  {
   "cell_type": "code",
   "execution_count": 34,
   "metadata": {
    "scrolled": true
   },
   "outputs": [
    {
     "data": {
      "application/vnd.jupyter.widget-view+json": {
       "model_id": "681c0dd302924d5f99ce1b7275f5838f",
       "version_major": 2,
       "version_minor": 0
      },
      "text/plain": [
       "NGLWidget()"
      ]
     },
     "metadata": {},
     "output_type": "display_data"
    }
   ],
   "source": [
    "ligand_system = openff_forcefield.create_openmm_system(ligand_topology)\n",
    "\n",
    "integrator = LangevinIntegrator(300*unit.kelvin, 1/unit.picosecond, 0.002*unit.picoseconds)\n",
    "simulation = app.Simulation(ligand_topology.to_openmm(), ligand_system, integrator)\n",
    "simulation.context.setPositions(omm_pdbfile.positions)\n",
    "simulation.minimizeEnergy()\n",
    "\n",
    "lig_struct = pmd.openmm.load_topology(simulation.topology, ligand_system, simulation.context.getState(getPositions=True).getPositions())\n",
    "with NamedTemporaryFile(suffix='.pdb') as tf:\n",
    "    app.PDBFile.writeModel(simulation.topology, simulation.context.getState(getPositions=True).getPositions(), open(tf.name, 'w'))\n",
    "    view = nglview.show_file(tf.name)\n",
    "view"
   ]
  },
  {
   "cell_type": "markdown",
   "metadata": {},
   "source": [
    "## Workflow 2 Conclusions:\n",
    "\n",
    "* The 0.3 update of the SMIRNOFF specification has brought the object model more closely in line with the XML representation\n",
    "* The ForceField object model exposes a way to inspect the parameters assigned to molecules\n",
    "* The SMARTS-based parameters themselves can be modified prior to system creation\n",
    "* The resulting systems are *immediately* ready for calculation\n",
    "* This API enables fully automated cycles of parameter optimization\n",
    "* Generally, this creates opportunities to bridge cheminformatics and FF science\n",
    "\n",
    "Yet to come - An OpenFF `System` class\n",
    "* Could use a layer of indirection to make parameter optimization more efficient\n",
    "* Will require resolving questions in the SMIRNOFF spec\n",
    "    * How will the hierarchy of charge models be resolved?\n",
    "    * How will `GBSA` and `Electrostatics` forces know to inherit the same charges?\n",
    "    * Where will VirtualSites, which have both charge and vdW parameters, be defined?\n"
   ]
  },
  {
   "cell_type": "code",
   "execution_count": 35,
   "metadata": {},
   "outputs": [
    {
     "name": "stdout",
     "output_type": "stream",
     "text": [
      "# packages in environment at /Users/jeffreywagner/miniconda3/envs/off-070:\r\n",
      "#\r\n",
      "# Name                    Version                   Build  Channel\r\n",
      "amberlite                 16.0                     pypi_0    pypi\r\n",
      "ambertools                17.0                     pypi_0    pypi\r\n",
      "appnope                   0.1.0           py36h9f0ad1d_1001    conda-forge\r\n",
      "arpack                    3.7.0                hbb27dc6_1    conda-forge\r\n",
      "attrs                     19.3.0                     py_0    conda-forge\r\n",
      "backcall                  0.2.0              pyh9f0ad1d_0    conda-forge\r\n",
      "bleach                    3.1.5              pyh9f0ad1d_0    conda-forge\r\n",
      "blosc                     1.19.0               h4a8c4bd_0    conda-forge\r\n",
      "boost                     1.72.0           py36hbf1eeb5_0    conda-forge\r\n",
      "boost-cpp                 1.72.0               hef959ae_1    conda-forge\r\n",
      "brotlipy                  0.7.0           py36h37b9a7d_1000    conda-forge\r\n",
      "bson                      0.5.9                      py_0    conda-forge\r",
      "\r\n",
      "bzip2                     1.0.8                h0b31af3_2    conda-forge\r\n",
      "ca-certificates           2020.6.20            hecda079_0    conda-forge\r\n",
      "cairo                     1.16.0            ha8983da_1004    conda-forge\r\n",
      "certifi                   2020.6.20        py36h9f0ad1d_0    conda-forge\r\n",
      "cffi                      1.14.0           py36h356ff06_0    conda-forge\r\n",
      "chardet                   3.0.4           py36h9f0ad1d_1006    conda-forge\r\n",
      "cryptography              2.9.2            py36hc9d8292_0    conda-forge\r\n",
      "curl                      7.69.1               h2d98d24_0    conda-forge\r\n",
      "cycler                    0.10.0                     py_2    conda-forge\r\n",
      "cython                    0.29.20          py36h0130604_0    conda-forge\r\n",
      "decorator                 4.4.2                      py_0    conda-forge\r\n",
      "defusedxml                0.6.0                      py_0    conda-forge\r\n",
      "entrypoints               0.3             py36h9f0ad1d_1001    conda-forge\r\n",
      "fftw                      3.3.8           nompi_h44ae4c8_1110    conda-forge\r\n",
      "fftw3f                    3.3.4                         2    omnia\r\n",
      "fontconfig                2.13.1            h79c0d67_1002    conda-forge\r\n",
      "freetype                  2.10.2               h8da9a1a_0    conda-forge\r\n",
      "gettext                   0.19.8.1          h46ab8bc_1002    conda-forge\r\n",
      "glib                      2.65.0               h577aef8_0    conda-forge\r\n",
      "hdf4                      4.2.13            h84186c3_1003    conda-forge\r\n",
      "hdf5                      1.10.6          nompi_h3e39495_100    conda-forge\r\n",
      "icu                       67.1                 h4a8c4bd_0    conda-forge\r\n",
      "idna                      2.9                        py_1    conda-forge\r\n",
      "importlib-metadata        1.6.1            py36h9f0ad1d_0    conda-forge\r\n",
      "importlib_metadata        1.6.1                         0    conda-forge\r\n",
      "ipykernel                 5.3.0            py36h95af2a2_0    conda-forge\r\n",
      "ipython                   7.15.0           py36h9f0ad1d_0    conda-forge\r\n",
      "ipython_genutils          0.2.0                      py_1    conda-forge\r\n",
      "ipywidgets                7.5.1                      py_0    conda-forge\r\n",
      "jedi                      0.17.1           py36h9f0ad1d_0    conda-forge\r\n",
      "jinja2                    2.11.2             pyh9f0ad1d_0    conda-forge\r\n",
      "jpeg                      9d                   h0b31af3_0    conda-forge\r\n",
      "jsonschema                3.2.0            py36h9f0ad1d_1    conda-forge\r\n",
      "jupyter_client            6.1.3                      py_0    conda-forge\r\n",
      "jupyter_core              4.6.3            py36h9f0ad1d_1    conda-forge\r\n",
      "kiwisolver                1.2.0            py36h863e41a_0    conda-forge\r\n",
      "krb5                      1.17.1               h14dd6a4_1    conda-forge\r\n",
      "libblas                   3.8.0               16_openblas    conda-forge\r\n",
      "libcblas                  3.8.0               16_openblas    conda-forge\r\n",
      "libcurl                   7.69.1               hc0b9707_0    conda-forge\r\n",
      "libcxx                    10.0.0               h1af66ff_2    conda-forge\r\n",
      "libedit                   3.1.20191231         hed1e85f_0    conda-forge\r\n",
      "libffi                    3.2.1             h4a8c4bd_1007    conda-forge\r\n",
      "libgfortran               4.0.0                         2    conda-forge\r\n",
      "libiconv                  1.15              h0b31af3_1006    conda-forge\r\n",
      "liblapack                 3.8.0               16_openblas    conda-forge\r\n",
      "libnetcdf                 4.7.4           nompi_ha11d67f_104    conda-forge\r\n",
      "libopenblas               0.3.9                h3d69b6c_0    conda-forge\r\n",
      "libpng                    1.6.37               hbbe82c9_1    conda-forge\r\n",
      "libsodium                 1.0.17               h01d97ff_0    conda-forge\r\n",
      "libssh2                   1.9.0                h39bdce6_2    conda-forge\r\n",
      "libtiff                   4.1.0                h2ae36a8_6    conda-forge\r\n",
      "libwebp-base              1.1.0                h0b31af3_3    conda-forge\r\n",
      "libxcb                    1.13              h1de35cc_1002    conda-forge\r\n",
      "libxml2                   2.9.10               hc06c4ae_1    conda-forge\r\n",
      "llvm-openmp               10.0.0               h28b9765_0    conda-forge\r\n",
      "lz4-c                     1.9.2                h4a8c4bd_1    conda-forge\r\n",
      "markupsafe                1.1.1            py36h37b9a7d_1    conda-forge\r\n",
      "matplotlib-base           3.2.2            py36h83d3ec1_0    conda-forge\r\n",
      "mdtraj                    1.9.1                    py36_0    omnia\r\n",
      "mistune                   0.8.4           py36h37b9a7d_1001    conda-forge\r\n",
      "mmpbsa-py                 16.0                     pypi_0    pypi\r\n",
      "mock                      4.0.2            py36h9f0ad1d_0    conda-forge\r\n",
      "more-itertools            8.4.0                      py_0    conda-forge\r\n",
      "msgpack-python            1.0.0            py36h863e41a_1    conda-forge\r\n",
      "nbconvert                 5.6.1            py36h9f0ad1d_1    conda-forge\r\n",
      "nbformat                  5.0.6                      py_0    conda-forge\r\n",
      "ncurses                   6.1               h0a44026_1002    conda-forge\r\n",
      "netcdf-fortran            4.5.3           nompi_hcfc364a_100    conda-forge\r\n",
      "networkx                  2.4                        py_1    conda-forge\r\n",
      "nglview                   2.7.5              pyh5ca1d4c_0    conda-forge\r\n",
      "notebook                  6.0.3            py36h9f0ad1d_0    conda-forge\r\n",
      "numexpr                   2.7.1            py36hcc1bba6_1    conda-forge\r\n",
      "numpy                     1.18.5           py36hdc5ca10_0    conda-forge\r\n",
      "olefile                   0.46                       py_0    conda-forge\r\n",
      "openeye-toolkits          2019.10.2                py36_0    openeye\r\n",
      "openforcefield            0.7.0                    py36_4    omnia\r\n",
      "openforcefields           1.2.0                    py36_0    omnia\r\n",
      "openmm                    7.4.2           py36_cuda101_rc_1    omnia\r\n",
      "openssl                   1.1.1g               h0b31af3_0    conda-forge\r\n",
      "packaging                 20.4               pyh9f0ad1d_0    conda-forge\r\n",
      "packmol-memgen            1.1.0rc0                 pypi_0    pypi\r\n",
      "pandas                    1.0.5            py36hcc1bba6_0    conda-forge\r\n",
      "pandoc                    2.9.2.1                       0    conda-forge\r\n",
      "pandocfilters             1.4.2                      py_1    conda-forge\r\n",
      "parmed                    at20RC5+54.g5702a232fe.dirty          pypi_0    pypi\r\n",
      "parso                     0.7.0              pyh9f0ad1d_0    conda-forge\r\n",
      "pcre                      8.44                 h4a8c4bd_0    conda-forge\r\n",
      "pdb4amber                 1.7.dev0                 pypi_0    pypi\r\n",
      "perl                      5.26.2            haec8ef5_1006    conda-forge\r\n",
      "pexpect                   4.8.0            py36h9f0ad1d_1    conda-forge\r\n",
      "pickleshare               0.7.5           py36h9f0ad1d_1001    conda-forge\r\n",
      "pillow                    7.1.2            py36h2ae5dfa_0    conda-forge\r\n",
      "pip                       20.1.1                     py_1    conda-forge\r\n",
      "pixman                    0.38.0            h01d97ff_1003    conda-forge\r\n",
      "pluggy                    0.13.1           py36h9f0ad1d_2    conda-forge\r\n",
      "prometheus_client         0.8.0              pyh9f0ad1d_0    conda-forge\r\n",
      "prompt-toolkit            3.0.5                      py_1    conda-forge\r\n",
      "pthread-stubs             0.4               h1de35cc_1001    conda-forge\r\n",
      "ptyprocess                0.6.0                   py_1001    conda-forge\r\n",
      "py                        1.8.2              pyh9f0ad1d_0    conda-forge\r\n",
      "pycairo                   1.19.1           py36h1ef2672_3    conda-forge\r\n",
      "pycparser                 2.20                       py_0    conda-forge\r\n",
      "pygments                  2.6.1                      py_0    conda-forge\r\n",
      "pyopenssl                 19.1.0                     py_1    conda-forge\r\n",
      "pyparsing                 2.4.7              pyh9f0ad1d_0    conda-forge\r\n",
      "pyrsistent                0.16.0           py36h37b9a7d_0    conda-forge\r\n",
      "pysocks                   1.7.1            py36h9f0ad1d_1    conda-forge\r\n",
      "pytables                  3.6.1            py36hce38db3_2    conda-forge\r\n",
      "pytest                    5.4.3            py36h9f0ad1d_0    conda-forge\r\n",
      "python                    3.6.10          h4334963_1011_cpython    conda-forge\r\n",
      "python-dateutil           2.8.1                      py_0    conda-forge\r\n",
      "python_abi                3.6                     1_cp36m    conda-forge\r\n",
      "pytraj                    2.0.5                    pypi_0    pypi\r\n",
      "pytz                      2020.1             pyh9f0ad1d_0    conda-forge\r\n",
      "pyyaml                    5.3.1            py36h37b9a7d_0    conda-forge\r\n",
      "pyzmq                     19.0.1           py36h820b253_0    conda-forge\r\n",
      "rdkit                     2020.03.3        py36h8e01224_0    conda-forge\r\n",
      "readline                  8.0                  hcfe32e1_0    conda-forge\r\n",
      "requests                  2.24.0             pyh9f0ad1d_0    conda-forge\r\n",
      "sander                    16.0                     pypi_0    pypi\r\n",
      "scipy                     1.4.1            py36h1dac7e4_3    conda-forge\r\n",
      "send2trash                1.5.0                      py_0    conda-forge\r\n",
      "setuptools                47.3.1           py36h9f0ad1d_0    conda-forge\r\n",
      "six                       1.15.0             pyh9f0ad1d_0    conda-forge\r\n",
      "smirnoff99frosst          1.1.0                    py36_1    omnia\r\n",
      "sqlite                    3.30.1               h93121df_0    conda-forge\r\n",
      "terminado                 0.8.3            py36h9f0ad1d_1    conda-forge\r\n",
      "testpath                  0.4.4                      py_0    conda-forge\r\n",
      "tk                        8.6.10               hbbe82c9_0    conda-forge\r\n",
      "toml                      0.10.1             pyh9f0ad1d_0    conda-forge\r\n",
      "tornado                   6.0.4            py36h37b9a7d_1    conda-forge\r\n",
      "traitlets                 4.3.3            py36h9f0ad1d_1    conda-forge\r\n",
      "urllib3                   1.25.9                     py_0    conda-forge\r\n",
      "wcwidth                   0.2.5              pyh9f0ad1d_0    conda-forge\r\n",
      "webencodings              0.5.1                      py_1    conda-forge\r\n",
      "wheel                     0.34.2                     py_1    conda-forge\r\n",
      "widgetsnbextension        3.5.1                    py36_0    conda-forge\r\n",
      "xmltodict                 0.12.0                     py_0    conda-forge\r\n",
      "xorg-kbproto              1.0.7             h1de35cc_1002    conda-forge\r\n",
      "xorg-libice               1.0.10               h01d97ff_0    conda-forge\r\n",
      "xorg-libsm                1.2.3             h01d97ff_1000    conda-forge\r\n",
      "xorg-libx11               1.6.9                h0b31af3_0    conda-forge\r\n",
      "xorg-libxau               1.0.9                h1de35cc_0    conda-forge\r\n",
      "xorg-libxdmcp             1.1.3                h01d97ff_0    conda-forge\r\n",
      "xorg-libxext              1.3.4                h01d97ff_0    conda-forge\r\n",
      "xorg-libxt                1.2.0                h01d97ff_0    conda-forge\r\n",
      "xorg-xextproto            7.3.0             h1de35cc_1002    conda-forge\r\n",
      "xorg-xproto               7.0.31            h1de35cc_1007    conda-forge\r\n",
      "xz                        5.2.5                h0b31af3_0    conda-forge\r\n",
      "yaml                      0.2.5                h0b31af3_0    conda-forge\r\n",
      "zeromq                    4.3.2                h6de7cb9_2    conda-forge\r\n",
      "zipp                      3.1.0                      py_0    conda-forge\r\n",
      "zlib                      1.2.11            h0b31af3_1006    conda-forge\r\n",
      "zstd                      1.4.4                h4b3e974_3    conda-forge\r\n"
     ]
    }
   ],
   "source": [
    "! conda list"
   ]
  },
  {
   "cell_type": "code",
   "execution_count": null,
   "metadata": {},
   "outputs": [],
   "source": []
  }
 ],
 "metadata": {
  "kernelspec": {
   "display_name": "Python 3",
   "language": "python",
   "name": "python3"
  },
  "language_info": {
   "codemirror_mode": {
    "name": "ipython",
    "version": 3
   },
   "file_extension": ".py",
   "mimetype": "text/x-python",
   "name": "python",
   "nbconvert_exporter": "python",
   "pygments_lexer": "ipython3",
   "version": "3.7.8"
  }
 },
 "nbformat": 4,
 "nbformat_minor": 2
}
