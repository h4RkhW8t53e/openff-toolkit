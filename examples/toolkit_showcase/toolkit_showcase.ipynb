{
 "cells": [
  {
   "cell_type": "code",
   "execution_count": null,
   "metadata": {},
   "outputs": [],
   "source": [
    "%load_ext lab_black"
   ]
  },
  {
   "cell_type": "markdown",
   "metadata": {},
   "source": [
    "# Workflow 0: Installing non-standard dependencies\n",
    "\n",
    "This example requires installing some packages that are not installed by default.\n",
    "\n",
    "### Option #1: Installing everything from scratch.\n",
    "\n",
    "```shell\n",
    "$ conda env create --file devtools/conda-envs/examples.yaml\n",
    "$ conda activate openff-examples\n",
    "```\n",
    "\n",
    "### Option #2: Install extra packages after a normal OpenFF Toolkit installation\n",
    "\n",
    "If the OpenFF Toolkit is already installed (`python -c \"from openforcefield.topology import Molecule\"` runs with no errors), the extra packages can be installed manually.\n",
    "\n",
    "```shell\n",
    "$ conda install mdtraj nglview -c conda-forge\n",
    "```\n",
    "\n",
    "### Option #2b (optional): Install GROMACS\n",
    "\n",
    "If GROMACS is installed by other means, or if you don't wish to run the example in OpenMM _and_ GROMACS, this step can be skipped.\n",
    "\n",
    "```shell\n",
    "$ conda install gromacs -c conda-forge -c bioconda\n",
    "```\n",
    "\n",
    "If you do install GROMACS with `conda`, it is recommended that you re-activate your environment and restart this notebook."
   ]
  },
  {
   "cell_type": "markdown",
   "metadata": {},
   "source": [
    "# Workflow 1: Prepare and run a protein-ligand simulation"
   ]
  },
  {
   "cell_type": "code",
   "execution_count": null,
   "metadata": {
    "slideshow": {
     "slide_type": "-"
    }
   },
   "outputs": [],
   "source": [
    "from simtk.openmm import app, LangevinIntegrator\n",
    "from simtk import unit\n",
    "import parmed as pmd\n",
    "from parmed.openmm import NetCDFReporter\n",
    "import numpy as np\n",
    "import mdtraj as mdt\n",
    "from tempfile import NamedTemporaryFile\n",
    "import nglview"
   ]
  },
  {
   "cell_type": "code",
   "execution_count": null,
   "metadata": {
    "slideshow": {
     "slide_type": "-"
    }
   },
   "outputs": [],
   "source": [
    "def find_clashing_water(pmd_struct, lig_resname, distance):\n",
    "    \"\"\"\n",
    "    Find waters that are sterically clashing with a ligand.\n",
    "\n",
    "    Parameters\n",
    "    ----------\n",
    "    pmd_struct : parmed.Structure\n",
    "        The structure to analyze.\n",
    "    lig_resname : str\n",
    "        The up-to-three character residue name.\n",
    "    distance : float\n",
    "        The distance cutoff (in nanometers) for clash detection.\n",
    "\n",
    "    Returns\n",
    "    -------\n",
    "    water_resnums : Iterable[int]\n",
    "        The residue numbers of waters that are clashing with the ligand.\n",
    "\n",
    "    \"\"\"\n",
    "    with NamedTemporaryFile(suffix=\".pdb\") as tf:\n",
    "        app.PDBFile.writeFile(\n",
    "            pmd_struct.topology, pmd_struct.positions, open(tf.name, \"w\")\n",
    "        )\n",
    "        traj = mdt.load(tf.name)\n",
    "    top = traj.topology\n",
    "    lig_atom_idxs = top.select(f\"resname {lig_resname}\")\n",
    "    lig_res_idx = top.atom(lig_atom_idxs[1]).residue.index\n",
    "    wat_atom_idxs = top.select(\"resname HOH and name O\")\n",
    "    wat_res_idxs = [top.atom(i).residue.index for i in wat_atom_idxs]\n",
    "    potential_contacts = [(lig_res_idx, wat_res_idx) for wat_res_idx in wat_res_idxs]\n",
    "    contacts = mdt.compute_contacts(\n",
    "        traj, contacts=potential_contacts, scheme=\"closest\", ignore_nonprotein=False\n",
    "    )\n",
    "\n",
    "    # Note that this is 0-indexed, while the parmed structure is\n",
    "    # 1-indexed, therefore we add 1 before returning\n",
    "    clash_res_idx = [i[1] + 1 for i in contacts[1][(contacts[0] < 0.15)[0, :]]]\n",
    "    return clash_res_idx"
   ]
  },
  {
   "cell_type": "markdown",
   "metadata": {},
   "source": [
    "## Introducing the main cast\n",
    "\n",
    "https://github.com/MCompChem/fep-benchmark\n"
   ]
  },
  {
   "cell_type": "code",
   "execution_count": null,
   "metadata": {},
   "outputs": [],
   "source": [
    "! rm -rf fep-benchmark\n",
    "! git clone https://github.com/MCompChem/fep-benchmark.git"
   ]
  },
  {
   "cell_type": "markdown",
   "metadata": {},
   "source": [
    "### Split off the first ligand in the SDF"
   ]
  },
  {
   "cell_type": "code",
   "execution_count": null,
   "metadata": {},
   "outputs": [],
   "source": [
    "! head -n119 fep-benchmark/eg5/ligands.sdf > fep-benchmark/eg5/chembl_1078774.sdf\n",
    "! cat fep-benchmark/eg5/chembl_1078774.sdf"
   ]
  },
  {
   "cell_type": "markdown",
   "metadata": {},
   "source": [
    "Magic:\n",
    "* The ligand coordinates are already superimposable on the protein\n",
    "* Protein+Ligand already prepared (by the Schrodinger suite, I think)"
   ]
  },
  {
   "cell_type": "code",
   "execution_count": null,
   "metadata": {
    "slideshow": {
     "slide_type": "-"
    }
   },
   "outputs": [],
   "source": [
    "receptor_path = \"fep-benchmark/eg5/3l9h_prepared.pdb\"\n",
    "ligand_path = \"fep-benchmark/eg5/chembl_1078774.sdf\""
   ]
  },
  {
   "cell_type": "code",
   "execution_count": null,
   "metadata": {},
   "outputs": [],
   "source": [
    "view = nglview.show_file(ligand_path)\n",
    "view"
   ]
  },
  {
   "cell_type": "code",
   "execution_count": null,
   "metadata": {},
   "outputs": [],
   "source": [
    "view = nglview.show_file(receptor_path)\n",
    "view"
   ]
  },
  {
   "cell_type": "markdown",
   "metadata": {},
   "source": [
    "# The plan:\n",
    "\n",
    "* Parameterize the ligand (OFF Toolkit)\n",
    "* Solvate and parameterize the protein (OpenMM)\n",
    "* Combine the parameterized ligand and the parameterized protein (ParmEd)\n",
    "* Remove waters that clash with the ligand (ParmEd/MDAnalysis)\n",
    "* Simulate the complex (OpenMM)\n",
    "* Visualize the simulation (nglview)\n",
    "\n",
    "_Note that there's a new package `OpenMMForceFields` to replace much of this!_\n",
    "* Home: https://github.com/openmm/openmmforcefields\n",
    "* `conda install -c conda-forge -c omnia openmmforcefields`\n",
    "* [Example notebook available](https://github.com/openforcefield/openforcefield/blob/master/examples/swap_amber_parameters/swap_existing_ligand_parameters_with_openmmforcefields.ipynb)\n",
    "\n",
    "## Parameterize the ligand (OFF Toolkit)"
   ]
  },
  {
   "cell_type": "code",
   "execution_count": null,
   "metadata": {},
   "outputs": [],
   "source": [
    "from openforcefield.typing.engines.smirnoff import ForceField\n",
    "from openforcefield.topology import Molecule, Topology"
   ]
  },
  {
   "cell_type": "markdown",
   "metadata": {},
   "source": [
    "_(The OpenEye loading warning is expected -- The toolkit is informing us that OETK is unavailable, so it will use RDKit and AmberTools instead)_"
   ]
  },
  {
   "cell_type": "code",
   "execution_count": null,
   "metadata": {},
   "outputs": [],
   "source": [
    "ligand = Molecule.from_file(ligand_path)\n",
    "\n",
    "ligand_positions = ligand.conformers[0]\n",
    "off_forcefield = ForceField(\"openff_unconstrained-1.2.0.offxml\")\n",
    "\n",
    "ligand_topology = ligand.to_topology()\n",
    "ligand_system = off_forcefield.create_openmm_system(ligand_topology)"
   ]
  },
  {
   "cell_type": "markdown",
   "metadata": {},
   "source": [
    "_(takes ~100 seconds)_\n",
    "### This is the only block in the first workflow that uses the Open Force Field Toolkit\n",
    "* Design goal: **Just work**\n",
    "    * Validate early and fail as quickly as possible if inputs have problems\n",
    "    * Calculate charges with no user intervention -- Using RDKit+AmberTools right now, OpenEye is faster"
   ]
  },
  {
   "cell_type": "markdown",
   "metadata": {},
   "source": [
    "## Solvate and parameterize the protein (OpenMM)"
   ]
  },
  {
   "cell_type": "code",
   "execution_count": null,
   "metadata": {},
   "outputs": [],
   "source": [
    "omm_forcefield = app.ForceField(\"amber99sb.xml\", \"tip3p.xml\")\n",
    "pdb = app.PDBFile(receptor_path)\n",
    "modeller = app.Modeller(pdb.topology, pdb.positions)\n",
    "modeller.addSolvent(\n",
    "    omm_forcefield,\n",
    "    model=\"tip3p\",\n",
    "    padding=4.0 * unit.angstrom,\n",
    "    ionicStrength=0.15 * unit.molar,\n",
    ")\n",
    "protein_system = omm_forcefield.createSystem(\n",
    "    modeller.topology, nonbondedMethod=app.PME, rigidWater=False\n",
    ")"
   ]
  },
  {
   "cell_type": "markdown",
   "metadata": {},
   "source": [
    "* Magic: \n",
    "    * The protein was already prepared\n",
    "    * AMBER-compatible residue names\n",
    "    * `rigidWater=False` is necessary at this step due to design differences between OFF/OMM and ParmEd\n",
    "\n",
    "* Look out! Confusion between OpenMM and OpenFF `Topology` and `ForceField`"
   ]
  },
  {
   "cell_type": "markdown",
   "metadata": {},
   "source": [
    "## Combine the parameterized ligand and the parameterized protein (ParmEd)"
   ]
  },
  {
   "cell_type": "code",
   "execution_count": null,
   "metadata": {},
   "outputs": [],
   "source": [
    "pmd_receptor_struct = pmd.openmm.load_topology(\n",
    "    modeller.topology, protein_system, modeller.positions\n",
    ")\n",
    "pmd_ligand_struct = pmd.openmm.load_topology(\n",
    "    ligand_topology.to_openmm(), ligand_system, ligand_positions\n",
    ")\n",
    "\n",
    "pmd_complex_struct = pmd_receptor_struct + pmd_ligand_struct\n",
    "\n",
    "# Assign periodic box vectors from the solvated receptor structure\n",
    "pmd_complex_struct.box_vectors = modeller.topology.getPeriodicBoxVectors()"
   ]
  },
  {
   "cell_type": "markdown",
   "metadata": {},
   "source": [
    "## Visualize combined system"
   ]
  },
  {
   "cell_type": "code",
   "execution_count": null,
   "metadata": {
    "scrolled": true
   },
   "outputs": [],
   "source": [
    "view = nglview.show_parmed(pmd_complex_struct)\n",
    "view.add_licorice(selection=\"(not protein)\")\n",
    "view.add_surface(selection=\":.NA or :.CL\")\n",
    "\n",
    "view"
   ]
  },
  {
   "cell_type": "markdown",
   "metadata": {},
   "source": [
    "* Note waters clashing with ligand, since protein was solvated alone"
   ]
  },
  {
   "cell_type": "markdown",
   "metadata": {},
   "source": [
    "## Remove waters that clash with the ligand (ParmEd/MDAnalysis)\n",
    "\n",
    "* Magic:\n",
    "    * Uses function at top of file to find clashes"
   ]
  },
  {
   "cell_type": "code",
   "execution_count": null,
   "metadata": {},
   "outputs": [],
   "source": [
    "clashes = find_clashing_water(pmd_complex_struct, \"CHE\", 0.15)\n",
    "\n",
    "if len(clashes) != 0:\n",
    "    clash_residues_str = \",\".join([str(i) for i in clashes])\n",
    "    print(f\"Removing ligand-clashing water residues {clash_residues_str}\")\n",
    "    pmd_complex_struct.strip(f\":{clash_residues_str}\")\n",
    "else:\n",
    "    print(\"No ligand-water clashes to resolve\")\n",
    "\n",
    "view = nglview.show_parmed(pmd_complex_struct)\n",
    "\n",
    "view.add_licorice(selection=\"(not protein)\")\n",
    "view.add_surface(selection=\":.NA or :.CL\")\n",
    "view"
   ]
  },
  {
   "cell_type": "markdown",
   "metadata": {},
   "source": [
    "## Convert the combined system from ParmEd back to OpenMM"
   ]
  },
  {
   "cell_type": "code",
   "execution_count": null,
   "metadata": {},
   "outputs": [],
   "source": [
    "system = pmd_complex_struct.createSystem(\n",
    "    nonbondedMethod=app.PME,\n",
    "    nonbondedCutoff=9 * unit.angstrom,\n",
    "    constraints=app.HBonds,\n",
    "    rigidWater=True,\n",
    ")\n",
    "integrator = LangevinIntegrator(\n",
    "    300 * unit.kelvin, 1 / unit.picosecond, 0.002 * unit.picoseconds\n",
    ")\n",
    "\n",
    "simulation = app.Simulation(pmd_complex_struct.topology, system, integrator)\n",
    "\n",
    "# The box is about 75 angstroms per side, so add (30, 30, 30) to center the protein\n",
    "simulation.context.setPositions(\n",
    "    pmd_complex_struct.positions + np.array([30, 30, 30]) * unit.angstrom\n",
    ")\n",
    "\n",
    "nc_reporter = NetCDFReporter(\"trajectory.nc\", 10)\n",
    "simulation.reporters.append(nc_reporter)"
   ]
  },
  {
   "cell_type": "markdown",
   "metadata": {},
   "source": [
    "## Simulate the complex (OpenMM)\n",
    "### Minimize the combined system\n",
    "_(Takes 110 seconds)_"
   ]
  },
  {
   "cell_type": "code",
   "execution_count": null,
   "metadata": {},
   "outputs": [],
   "source": [
    "simulation.minimizeEnergy()\n",
    "minimized_coords = simulation.context.getState(getPositions=True).getPositions()"
   ]
  },
  {
   "cell_type": "markdown",
   "metadata": {},
   "source": [
    "### Run a short simulation\n",
    "_(Takes 85 seconds, largely due to trajectory writing frequency)_"
   ]
  },
  {
   "cell_type": "code",
   "execution_count": null,
   "metadata": {},
   "outputs": [],
   "source": [
    "simulation.context.setVelocitiesToTemperature(300 * unit.kelvin)\n",
    "simulation.step(1000)"
   ]
  },
  {
   "cell_type": "markdown",
   "metadata": {},
   "source": [
    "## While we wait, a few asides...\n",
    "\n",
    "### Force Fields\n",
    "* Reproducibility - User *must* see the name of what they're using\n",
    "* Conda data packages - \"Plugin\" support for additional force fields (anybody can add!)\n",
    "* Evolving together - Toolkit will support all functional forms in [OpenForceFields repo](https://github.com/openforcefield/openforcefields/)\n",
    "\n",
    "<img src=\"img/openforcefields.png\" alt=\"drawing\" width=\"800\"/>\n",
    "\n",
    "<hr/>\n",
    "    \n",
    "### Charge generation\n",
    "* Released FFs only use AM1-BCC, though different semiempirical methods and charge corrections are now available\n",
    "* \"Graph based\" charges are coming in the near future -- Consistency and speed!\n",
    "* Library charge support is available\n",
    "    \n",
    "    \n",
    "<img src=\"img/xkcd_charge.png\" alt=\"drawing\" width=\"400\"/>\n",
    "\n",
    "<hr/>\n",
    "\n",
    "### Current cheminformatics toolkit differences\n",
    "* File formats\n",
    "* Slight differences in partial charge\n",
    "* Speed\n",
    "* SMILES canonicalization\n",
    "* Behavior stability\n",
    "* Stereochemistry definition (Edge cases)"
   ]
  },
  {
   "cell_type": "markdown",
   "metadata": {},
   "source": [
    "## Visualize the simulation (nglview)"
   ]
  },
  {
   "cell_type": "code",
   "execution_count": null,
   "metadata": {},
   "outputs": [],
   "source": [
    "app.PDBFile.writeFile(\n",
    "    pmd_complex_struct.topology, pmd_complex_struct.positions, open(\"system.pdb\", \"w\")\n",
    ")\n",
    "mdt_traj = mdt.load(\"trajectory.nc\", top=\"system.pdb\")\n",
    "print(mdt_traj)\n",
    "import nglview\n",
    "\n",
    "view = nglview.show_mdtraj(mdt_traj)\n",
    "view"
   ]
  },
  {
   "cell_type": "markdown",
   "metadata": {},
   "source": [
    "# What about GROMACS?\n",
    "_Thanks, Dennis Della Corte!_"
   ]
  },
  {
   "cell_type": "code",
   "execution_count": null,
   "metadata": {},
   "outputs": [],
   "source": [
    "pmd_complex_struct.coordinates = minimized_coords\n",
    "\n",
    "# Export GROMACS files.\n",
    "pmd_complex_struct.save(\"system.top\", overwrite=True)\n",
    "pmd_complex_struct.save(\"system.gro\", overwrite=True)"
   ]
  },
  {
   "cell_type": "code",
   "execution_count": null,
   "metadata": {},
   "outputs": [],
   "source": [
    "! gmx grompp -f minim.mdp -c system.gro -p system.top -o em.tpr -maxwarn 1\n",
    "! gmx mdrun -deffnm em\n",
    "\n",
    "! gmx grompp -f nvt.mdp -c em.gro -r em.gro -p system.top -o nvt.tpr -maxwarn 1\n",
    "! gmx mdrun -deffnm nvt\n",
    "\n",
    "! gmx grompp -f npt.mdp -c nvt.gro -r nvt.gro -t nvt.cpt -p system.top -o npt.tpr -maxwarn 1\n",
    "! gmx mdrun -deffnm npt\n",
    "\n",
    "! gmx grompp -f md.mdp -c npt.gro -t npt.cpt -p system.top -o md_0_1.tpr -maxwarn 1\n",
    "! gmx mdrun -deffnm md_0_1"
   ]
  },
  {
   "cell_type": "markdown",
   "metadata": {},
   "source": [
    "* Magic:\n",
    "    * MDP files already prepared\n",
    "    * `maxwarn 1` becuase of rounding errors with charges\n",
    "* ParmEd *is* great, but *isn't* perfect, and we're actively working on bugfixes.\n",
    "* We have philosophical differences about what constitutes \"parameterization\" \n",
    "    * Hbond constraints?\n",
    "    * Electrostatics cutoffs?\n",
    "* ParmEd is unable to process several OpenMM GBSA models\n",
    "\n",
    "_(Takes 120 seconds)_\n"
   ]
  },
  {
   "cell_type": "code",
   "execution_count": null,
   "metadata": {},
   "outputs": [],
   "source": [
    "mdt_traj = mdt.load(\"md_0_1.xtc\", top=\"system.gro\", stride=1000000)\n",
    "print(mdt_traj)"
   ]
  },
  {
   "cell_type": "code",
   "execution_count": null,
   "metadata": {},
   "outputs": [],
   "source": [
    "import nglview\n",
    "\n",
    "view = nglview.show_mdtraj(mdt_traj)\n",
    "view"
   ]
  },
  {
   "cell_type": "markdown",
   "metadata": {},
   "source": [
    "### Workflow 1 Conclusions\n",
    "* Toolkit parameterization requires *8 lines*, three of which are cheap hacks \n",
    "* Conda-installable, open source tools performed everything from basic system prep to simulation and visualization\n",
    "* Using OpenMM, we never had to leave Python\n",
    "* Using ParmEd, there was little additional work to running with GROMACS\n",
    "\n",
    "\n",
    "<img src=\"img/dog_food.jpg\" alt=\"drawing\" width=\"350\"/>\n"
   ]
  },
  {
   "cell_type": "markdown",
   "metadata": {},
   "source": [
    "## Workflow 2: Changing force field parameters and energy-minimizing the resulting molecule\n",
    "\n",
    "\n",
    "### Note the recent change to the SMIRNOFF 0.3 specification\n",
    "\n",
    "```\n",
    "<Angles version=\"0.3\" potential=\"harmonic\">\n",
    "\t\t<Angle smirks=\"[*:1]~[#6X4:2]-[*:3]\" angle=\"109.5*degree\" k=\"100.0*mole**-1*radian**-2*kilocalorie\"/>\n",
    "\t\t<Angle smirks=\"[#1:1]-[#6X4:2]-[#1:3]\" angle=\"109.5*degree\" k=\"70.0*mole**-1*radian**-2*kilocalorie\"/>\n",
    "</Angles>\n",
    "```\n",
    "<hr/>"
   ]
  },
  {
   "cell_type": "markdown",
   "metadata": {},
   "source": [
    "### Getting started\n",
    "\n",
    "Let's reload the ligand, in case the live demo had a hiccup above.\n",
    "\n",
    "Magic:\n",
    "* To avoid spending time running AM1-BCC again, I'm providing explicitly-defined charges"
   ]
  },
  {
   "cell_type": "code",
   "execution_count": null,
   "metadata": {},
   "outputs": [],
   "source": [
    "from openforcefield.topology import Molecule, Topology\n",
    "from openforcefield.typing.engines.smirnoff import ForceField\n",
    "\n",
    "ligand_path = \"fep-benchmark/eg5/chembl_1078774.sdf\"\n",
    "ligand = Molecule.from_file(ligand_path)\n",
    "ligand.partial_charges = (\n",
    "    np.array(\n",
    "        [\n",
    "            -0.085767,\n",
    "            -0.0027,\n",
    "            -0.085767,\n",
    "            -0.085767,\n",
    "            -0.1043,\n",
    "            -0.092,\n",
    "            -0.174,\n",
    "            0.1506,\n",
    "            -0.1383,\n",
    "            -0.073,\n",
    "            0.2004,\n",
    "            -0.4076,\n",
    "            0.1254,\n",
    "            -0.1114,\n",
    "            -0.0684,\n",
    "            -0.1077,\n",
    "            0.2508,\n",
    "            -0.1043,\n",
    "            -0.092,\n",
    "            -0.138,\n",
    "            0.1021,\n",
    "            -0.4871,\n",
    "            0.0369,\n",
    "            -0.1449,\n",
    "            -0.124,\n",
    "            -0.7206,\n",
    "            0.036144,\n",
    "            0.036144,\n",
    "            0.036144,\n",
    "            0.036144,\n",
    "            0.036144,\n",
    "            0.036144,\n",
    "            0.036144,\n",
    "            0.036144,\n",
    "            0.036144,\n",
    "            0.131,\n",
    "            0.135,\n",
    "            0.138,\n",
    "            0.0437,\n",
    "            0.0442,\n",
    "            0.0442,\n",
    "            0.0497,\n",
    "            0.0497,\n",
    "            0.0497,\n",
    "            0.0497,\n",
    "            0.0567,\n",
    "            0.0837,\n",
    "            0.147,\n",
    "            0.159,\n",
    "            0.432,\n",
    "            0.15,\n",
    "            0.3978,\n",
    "        ]\n",
    "    )\n",
    "    * unit.elementary_charge\n",
    ")\n",
    "ligand_positions = ligand.conformers[0]\n",
    "ligand_topology = ligand.to_topology()"
   ]
  },
  {
   "cell_type": "markdown",
   "metadata": {},
   "source": [
    "First, we use `ForceField.label_molecules` to identify which torsion parameters were assigned to the hydroxyl."
   ]
  },
  {
   "cell_type": "code",
   "execution_count": null,
   "metadata": {},
   "outputs": [],
   "source": [
    "openff_forcefield = ForceField(\"openff-1.2.0.offxml\")\n",
    "ff_applied_parameters = openff_forcefield.label_molecules(ligand_topology)[0]\n",
    "for atoms, parameter in ff_applied_parameters[\"ProperTorsions\"].items():\n",
    "    ele_1 = ligand.atoms[atoms[0]].element.symbol\n",
    "    ele_2 = ligand.atoms[atoms[1]].element.symbol\n",
    "    ele_3 = ligand.atoms[atoms[2]].element.symbol\n",
    "    ele_4 = ligand.atoms[atoms[3]].element.symbol\n",
    "    if (ele_1 == \"H\" and ele_2 == \"O\") or (ele_3 == \"O\" and ele_4 == \"H\"):\n",
    "        print(atoms, parameter)"
   ]
  },
  {
   "cell_type": "code",
   "execution_count": null,
   "metadata": {},
   "outputs": [],
   "source": [
    "hydroxyl_torsion = openff_forcefield.get_parameter_handler(\"ProperTorsions\").parameters[\n",
    "    \"[*:1]~[#6X3:2]-[#8X2:3]-[#1:4]\"\n",
    "]\n",
    "hydroxyl_torsion.periodicity1 = 2\n",
    "hydroxyl_torsion.phase1 = 180 * unit.degree\n",
    "hydroxyl_torsion.k1 = -10 * unit.kilocalorie / unit.mole"
   ]
  },
  {
   "cell_type": "markdown",
   "metadata": {},
   "source": [
    "## Define a function to take an OpenFF molecule and ForceField and visualize the minimized structure"
   ]
  },
  {
   "cell_type": "code",
   "execution_count": null,
   "metadata": {
    "scrolled": true
   },
   "outputs": [],
   "source": [
    "def minimize_and_visualize(molecule, forcefield):\n",
    "    mol_topology = molecule.to_topology()\n",
    "    mol_system = openff_forcefield.create_openmm_system(\n",
    "        mol_topology, charge_from_molecules=[molecule]\n",
    "    )\n",
    "\n",
    "    integrator = LangevinIntegrator(\n",
    "        300 * unit.kelvin, 1 / unit.picosecond, 0.002 * unit.picoseconds\n",
    "    )\n",
    "    simulation = app.Simulation(mol_topology.to_openmm(), mol_system, integrator)\n",
    "    simulation.context.setPositions(molecule.conformers[0])\n",
    "    simulation.minimizeEnergy()\n",
    "    with NamedTemporaryFile(suffix=\".pdb\") as tf:\n",
    "        app.PDBFile.writeModel(\n",
    "            simulation.topology,\n",
    "            simulation.context.getState(getPositions=True).getPositions(),\n",
    "            open(tf.name, \"w\"),\n",
    "        )\n",
    "        view = nglview.show_file(tf.name)\n",
    "    return view"
   ]
  },
  {
   "cell_type": "code",
   "execution_count": null,
   "metadata": {},
   "outputs": [],
   "source": [
    "view = minimize_and_visualize(ligand, openff_forcefield)\n",
    "view"
   ]
  },
  {
   "cell_type": "markdown",
   "metadata": {},
   "source": [
    "## But we didn't need the OFF toolkit to change the parameters for a _single term_\n",
    "## So, how about changing FF parameters for all H-X-H angles?"
   ]
  },
  {
   "cell_type": "code",
   "execution_count": null,
   "metadata": {},
   "outputs": [],
   "source": [
    "ff_applied_parameters = openff_forcefield.label_molecules(ligand_topology)[0]\n",
    "for atoms, parameter in ff_applied_parameters[\"Angles\"].items():\n",
    "    ele_1 = ligand.atoms[atoms[0]].element.symbol\n",
    "    ele_2 = ligand.atoms[atoms[1]].element.symbol\n",
    "    ele_3 = ligand.atoms[atoms[2]].element.symbol\n",
    "    if ele_1 == \"H\" and ele_3 == \"H\":\n",
    "        print(atoms, parameter)"
   ]
  },
  {
   "cell_type": "code",
   "execution_count": null,
   "metadata": {
    "scrolled": true
   },
   "outputs": [],
   "source": [
    "hxh_angle = openff_forcefield.get_parameter_handler(\"Angles\").parameters[\n",
    "    \"[#1:1]-[#6X4:2]-[#1:3]\"\n",
    "]\n",
    "hxh_angle.angle = 50 * unit.degree\n",
    "\n",
    "view = minimize_and_visualize(ligand, openff_forcefield)\n",
    "view"
   ]
  },
  {
   "cell_type": "markdown",
   "metadata": {},
   "source": [
    "![title](img/aperture.jpg)\n"
   ]
  },
  {
   "cell_type": "markdown",
   "metadata": {},
   "source": [
    "## Now, let's mess with some torsion parameters\n",
    "### Load a molecule with more interesting torsion from PDB, supplying complete topological information using SMILES"
   ]
  },
  {
   "cell_type": "code",
   "execution_count": null,
   "metadata": {},
   "outputs": [],
   "source": [
    "view = nglview.show_file(\"CID_15513.pdb\")\n",
    "view"
   ]
  },
  {
   "cell_type": "code",
   "execution_count": null,
   "metadata": {},
   "outputs": [],
   "source": [
    "ligand = Molecule.from_smiles('COC(=O)C1=CC=C(C=C1)C(=O)O')"
   ]
  },
  {
   "cell_type": "code",
   "execution_count": null,
   "metadata": {},
   "outputs": [],
   "source": [
    "omm_pdbfile = app.PDBFile('CID_15513.pdb')\n",
    "ligand_topology = Topology.from_openmm(omm_pdbfile.topology, unique_molecules=[ligand])"
   ]
  },
  {
   "cell_type": "code",
   "execution_count": null,
   "metadata": {},
   "outputs": [],
   "source": [
    "openff_forcefield = ForceField('openff-1.2.0.offxml')\n",
    "ligand_system = openff_forcefield.create_openmm_system(ligand_topology)\n",
    "\n",
    "integrator = LangevinIntegrator(300*unit.kelvin, 1/unit.picosecond, 0.002*unit.picoseconds)\n",
    "simulation = app.Simulation(ligand_topology.to_openmm(), ligand_system, integrator)\n",
    "simulation.context.setPositions(omm_pdbfile.positions)\n",
    "simulation.minimizeEnergy()\n",
    "\n",
    "lig_struct = pmd.openmm.load_topology(simulation.topology, ligand_system, simulation.context.getState(getPositions=True).getPositions())\n",
    "with NamedTemporaryFile(suffix='.pdb') as tf:\n",
    "    app.PDBFile.writeModel(simulation.topology, simulation.context.getState(getPositions=True).getPositions(), open(tf.name, 'w'))\n",
    "    view = nglview.show_file(tf.name)\n",
    "view\n"
   ]
  },
  {
   "cell_type": "markdown",
   "metadata": {},
   "source": [
    "### Let's make the substituent groups perpendicular to the ring."
   ]
  },
  {
   "cell_type": "code",
   "execution_count": null,
   "metadata": {
    "scrolled": true
   },
   "outputs": [],
   "source": [
    "torsion_smirkses = set()\n",
    "ff_term_labels = openff_forcefield.label_molecules(ligand_topology)[0]\n",
    "for atoms, parameter in ff_term_labels['ProperTorsions'].items():\n",
    "    ele_1 = ligand.atoms[atoms[0]].element.symbol\n",
    "    ele_2 = ligand.atoms[atoms[1]].element.symbol\n",
    "    ele_3 = ligand.atoms[atoms[2]].element.symbol\n",
    "    ele_4 = ligand.atoms[atoms[3]].element.symbol\n",
    "    if (ele_1 == 'O') or (ele_4 == 'O'):\n",
    "        print(atoms, parameter)\n",
    "        torsion_smirkses.add(parameter.smirks)"
   ]
  },
  {
   "cell_type": "markdown",
   "metadata": {},
   "source": [
    "_You can go back to the [original FF file](https://github.com/openforcefield/openforcefields/blob/master/openforcefields/offxml/openff-1.2.0.offxml) to see where these are defined._\n",
    "\n",
    "This returns three _unique_ parameters, so I use a Python `set` to record all of their SMIRKSes.\n",
    "\n",
    "Now let's change the underlying FF to prefer those torsions being perpendicular."
   ]
  },
  {
   "cell_type": "code",
   "execution_count": null,
   "metadata": {},
   "outputs": [],
   "source": [
    "for smarts in torsion_smirkses:\n",
    "    oxygen_torsion = openff_forcefield.get_parameter_handler('ProperTorsions').parameters[smarts]\n",
    "    oxygen_torsion.periodicity1 = 2\n",
    "    oxygen_torsion.phase1 = 180 * unit.degree\n",
    "    oxygen_torsion.k1 = -10 * unit.kilocalorie / unit.mole"
   ]
  },
  {
   "cell_type": "code",
   "execution_count": null,
   "metadata": {
    "scrolled": true
   },
   "outputs": [],
   "source": [
    "ligand_system = openff_forcefield.create_openmm_system(ligand_topology)\n",
    "\n",
    "integrator = LangevinIntegrator(300*unit.kelvin, 1/unit.picosecond, 0.002*unit.picoseconds)\n",
    "simulation = app.Simulation(ligand_topology.to_openmm(), ligand_system, integrator)\n",
    "simulation.context.setPositions(omm_pdbfile.positions)\n",
    "simulation.minimizeEnergy()\n",
    "\n",
    "lig_struct = pmd.openmm.load_topology(simulation.topology, ligand_system, simulation.context.getState(getPositions=True).getPositions())\n",
    "with NamedTemporaryFile(suffix='.pdb') as tf:\n",
    "    app.PDBFile.writeModel(simulation.topology, simulation.context.getState(getPositions=True).getPositions(), open(tf.name, 'w'))\n",
    "    view = nglview.show_file(tf.name)\n",
    "view"
   ]
  },
  {
   "cell_type": "markdown",
   "metadata": {},
   "source": [
    "## Workflow 2 Conclusions:\n",
    "\n",
    "* The 0.3 update of the SMIRNOFF specification has brought the object model more closely in line with the XML representation\n",
    "* The ForceField object model exposes a way to inspect the parameters assigned to molecules\n",
    "* The SMARTS-based parameters themselves can be modified prior to system creation\n",
    "* The resulting systems are *immediately* ready for calculation\n",
    "* This API enables fully automated cycles of parameter optimization\n",
    "* Generally, this creates opportunities to bridge cheminformatics and FF science\n",
    "\n",
    "Yet to come - An OpenFF `System` class\n",
    "* Could use a layer of indirection to make parameter optimization more efficient\n",
    "* Will require resolving questions in the SMIRNOFF spec\n",
    "    * How will the hierarchy of charge models be resolved?\n",
    "    * How will `GBSA` and `Electrostatics` forces know to inherit the same charges?\n",
    "    * Where will VirtualSites, which have both charge and vdW parameters, be defined?\n"
   ]
  }
 ],
 "metadata": {
  "kernelspec": {
   "display_name": "Python 3",
   "language": "python",
   "name": "python3"
  },
  "language_info": {
   "codemirror_mode": {
    "name": "ipython",
    "version": 3
   },
   "file_extension": ".py",
   "mimetype": "text/x-python",
   "name": "python",
   "nbconvert_exporter": "python",
   "pygments_lexer": "ipython3",
   "version": "3.7.9"
  }
 },
 "nbformat": 4,
 "nbformat_minor": 4
}
